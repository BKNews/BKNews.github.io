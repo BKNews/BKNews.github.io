{
 "cells": [
  {
   "cell_type": "code",
   "execution_count": 1,
   "metadata": {},
   "outputs": [
    {
     "name": "stderr",
     "output_type": "stream",
     "text": [
      "/Users/lisakim/.pyenv/versions/3.8.2/lib/python3.8/site-packages/pandas/compat/__init__.py:120: UserWarning: Could not import the lzma module. Your installed Python is incomplete. Attempting to use lzma compression will result in a RuntimeError.\n",
      "  warnings.warn(msg)\n"
     ]
    }
   ],
   "source": [
    "import pandas as pd\n",
    "import numpy as np\n",
    "\n",
    "pd.set_option(\"display.max_columns\", 200)\n",
    "pd.set_option(\"display.max_colwidth\", 200)"
   ]
  },
  {
   "cell_type": "code",
   "execution_count": 2,
   "metadata": {},
   "outputs": [
    {
     "name": "stdout",
     "output_type": "stream",
     "text": [
      "Untitled.ipynb   d3-area.js       d3ScrollHW.csv   style.css\r\n",
      "climate-data.tsv d3-scrolly.html  notes.txt\r\n"
     ]
    }
   ],
   "source": [
    "!ls"
   ]
  },
  {
   "cell_type": "code",
   "execution_count": 54,
   "metadata": {},
   "outputs": [],
   "source": [
    "df =pd.read_csv(\"d3ScrollHW.csv\")"
   ]
  },
  {
   "cell_type": "code",
   "execution_count": 55,
   "metadata": {},
   "outputs": [
    {
     "data": {
      "text/html": [
       "<div>\n",
       "<style scoped>\n",
       "    .dataframe tbody tr th:only-of-type {\n",
       "        vertical-align: middle;\n",
       "    }\n",
       "\n",
       "    .dataframe tbody tr th {\n",
       "        vertical-align: top;\n",
       "    }\n",
       "\n",
       "    .dataframe thead th {\n",
       "        text-align: right;\n",
       "    }\n",
       "</style>\n",
       "<table border=\"1\" class=\"dataframe\">\n",
       "  <thead>\n",
       "    <tr style=\"text-align: right;\">\n",
       "      <th></th>\n",
       "      <th>INCIDENT_KEY</th>\n",
       "      <th>OCCUR_DATE</th>\n",
       "      <th>OCCUR_TIME</th>\n",
       "      <th>BORO</th>\n",
       "      <th>PRECINCT</th>\n",
       "      <th>JURISDICTION_CODE</th>\n",
       "      <th>LOCATION_DESC</th>\n",
       "      <th>STATISTICAL_MURDER_FLAG</th>\n",
       "      <th>PERP_AGE_GROUP</th>\n",
       "      <th>PERP_SEX</th>\n",
       "      <th>PERP_RACE</th>\n",
       "      <th>VIC_AGE_GROUP</th>\n",
       "      <th>VIC_SEX</th>\n",
       "      <th>VIC_RACE</th>\n",
       "      <th>X_COORD_CD</th>\n",
       "      <th>Y_COORD_CD</th>\n",
       "      <th>Latitude</th>\n",
       "      <th>Longitude</th>\n",
       "      <th>Lon_Lat</th>\n",
       "      <th>year</th>\n",
       "      <th>month</th>\n",
       "    </tr>\n",
       "  </thead>\n",
       "  <tbody>\n",
       "    <tr>\n",
       "      <th>0</th>\n",
       "      <td>152012485</td>\n",
       "      <td>04/11/2016</td>\n",
       "      <td>4:56:00</td>\n",
       "      <td>QUEENS</td>\n",
       "      <td>102</td>\n",
       "      <td>0.0</td>\n",
       "      <td>NaN</td>\n",
       "      <td>False</td>\n",
       "      <td>NaN</td>\n",
       "      <td>NaN</td>\n",
       "      <td>NaN</td>\n",
       "      <td>25-44</td>\n",
       "      <td>M</td>\n",
       "      <td>BLACK</td>\n",
       "      <td>1033861</td>\n",
       "      <td>192835</td>\n",
       "      <td>40.695833</td>\n",
       "      <td>-73.821093</td>\n",
       "      <td>POINT (-73.82109277699995 40.69583346400003)</td>\n",
       "      <td>2016</td>\n",
       "      <td>4</td>\n",
       "    </tr>\n",
       "    <tr>\n",
       "      <th>1</th>\n",
       "      <td>185760776</td>\n",
       "      <td>07/29/2018</td>\n",
       "      <td>22:38:00</td>\n",
       "      <td>BROOKLYN</td>\n",
       "      <td>81</td>\n",
       "      <td>0.0</td>\n",
       "      <td>NaN</td>\n",
       "      <td>False</td>\n",
       "      <td>NaN</td>\n",
       "      <td>NaN</td>\n",
       "      <td>NaN</td>\n",
       "      <td>25-44</td>\n",
       "      <td>M</td>\n",
       "      <td>BLACK</td>\n",
       "      <td>1,003,656</td>\n",
       "      <td>187,150</td>\n",
       "      <td>40.680347</td>\n",
       "      <td>-73.930035</td>\n",
       "      <td>POINT (-73.93003524 40.68034722)</td>\n",
       "      <td>2018</td>\n",
       "      <td>7</td>\n",
       "    </tr>\n",
       "    <tr>\n",
       "      <th>2</th>\n",
       "      <td>155571769</td>\n",
       "      <td>08/07/2016</td>\n",
       "      <td>2:00:00</td>\n",
       "      <td>QUEENS</td>\n",
       "      <td>113</td>\n",
       "      <td>0.0</td>\n",
       "      <td>NaN</td>\n",
       "      <td>False</td>\n",
       "      <td>NaN</td>\n",
       "      <td>NaN</td>\n",
       "      <td>NaN</td>\n",
       "      <td>25-44</td>\n",
       "      <td>M</td>\n",
       "      <td>BLACK</td>\n",
       "      <td>1040720</td>\n",
       "      <td>190569</td>\n",
       "      <td>40.689573</td>\n",
       "      <td>-73.796377</td>\n",
       "      <td>POINT (-73.79637672499997 40.689572726000044)</td>\n",
       "      <td>2016</td>\n",
       "      <td>8</td>\n",
       "    </tr>\n",
       "    <tr>\n",
       "      <th>3</th>\n",
       "      <td>140335018</td>\n",
       "      <td>12/27/2014</td>\n",
       "      <td>22:15:00</td>\n",
       "      <td>BROOKLYN</td>\n",
       "      <td>77</td>\n",
       "      <td>2.0</td>\n",
       "      <td>NaN</td>\n",
       "      <td>False</td>\n",
       "      <td>NaN</td>\n",
       "      <td>NaN</td>\n",
       "      <td>NaN</td>\n",
       "      <td>18-24</td>\n",
       "      <td>M</td>\n",
       "      <td>BLACK</td>\n",
       "      <td>1003508</td>\n",
       "      <td>185056</td>\n",
       "      <td>40.674600</td>\n",
       "      <td>-73.930575</td>\n",
       "      <td>POINT (-73.93057482199998 40.67459999000005)</td>\n",
       "      <td>2014</td>\n",
       "      <td>12</td>\n",
       "    </tr>\n",
       "    <tr>\n",
       "      <th>4</th>\n",
       "      <td>155405171</td>\n",
       "      <td>08/02/2016</td>\n",
       "      <td>1:08:00</td>\n",
       "      <td>BROOKLYN</td>\n",
       "      <td>81</td>\n",
       "      <td>0.0</td>\n",
       "      <td>NaN</td>\n",
       "      <td>False</td>\n",
       "      <td>NaN</td>\n",
       "      <td>NaN</td>\n",
       "      <td>NaN</td>\n",
       "      <td>18-24</td>\n",
       "      <td>F</td>\n",
       "      <td>BLACK</td>\n",
       "      <td>1005122</td>\n",
       "      <td>188737</td>\n",
       "      <td>40.684700</td>\n",
       "      <td>-73.924745</td>\n",
       "      <td>POINT (-73.92474482599994 40.684699840000064)</td>\n",
       "      <td>2016</td>\n",
       "      <td>8</td>\n",
       "    </tr>\n",
       "  </tbody>\n",
       "</table>\n",
       "</div>"
      ],
      "text/plain": [
       "   INCIDENT_KEY  OCCUR_DATE OCCUR_TIME      BORO  PRECINCT  JURISDICTION_CODE  \\\n",
       "0     152012485  04/11/2016    4:56:00    QUEENS       102                0.0   \n",
       "1     185760776  07/29/2018   22:38:00  BROOKLYN        81                0.0   \n",
       "2     155571769  08/07/2016    2:00:00    QUEENS       113                0.0   \n",
       "3     140335018  12/27/2014   22:15:00  BROOKLYN        77                2.0   \n",
       "4     155405171  08/02/2016    1:08:00  BROOKLYN        81                0.0   \n",
       "\n",
       "  LOCATION_DESC  STATISTICAL_MURDER_FLAG PERP_AGE_GROUP PERP_SEX PERP_RACE  \\\n",
       "0           NaN                    False            NaN      NaN       NaN   \n",
       "1           NaN                    False            NaN      NaN       NaN   \n",
       "2           NaN                    False            NaN      NaN       NaN   \n",
       "3           NaN                    False            NaN      NaN       NaN   \n",
       "4           NaN                    False            NaN      NaN       NaN   \n",
       "\n",
       "  VIC_AGE_GROUP VIC_SEX VIC_RACE X_COORD_CD Y_COORD_CD   Latitude  Longitude  \\\n",
       "0         25-44       M    BLACK    1033861     192835  40.695833 -73.821093   \n",
       "1         25-44       M    BLACK  1,003,656    187,150  40.680347 -73.930035   \n",
       "2         25-44       M    BLACK    1040720     190569  40.689573 -73.796377   \n",
       "3         18-24       M    BLACK    1003508     185056  40.674600 -73.930575   \n",
       "4         18-24       F    BLACK    1005122     188737  40.684700 -73.924745   \n",
       "\n",
       "                                         Lon_Lat  year  month  \n",
       "0   POINT (-73.82109277699995 40.69583346400003)  2016      4  \n",
       "1               POINT (-73.93003524 40.68034722)  2018      7  \n",
       "2  POINT (-73.79637672499997 40.689572726000044)  2016      8  \n",
       "3   POINT (-73.93057482199998 40.67459999000005)  2014     12  \n",
       "4  POINT (-73.92474482599994 40.684699840000064)  2016      8  "
      ]
     },
     "execution_count": 55,
     "metadata": {},
     "output_type": "execute_result"
    }
   ],
   "source": [
    "df.head()"
   ]
  },
  {
   "cell_type": "code",
   "execution_count": 56,
   "metadata": {},
   "outputs": [],
   "source": [
    "df2014 = df[df.year == 2014]"
   ]
  },
  {
   "cell_type": "code",
   "execution_count": 57,
   "metadata": {},
   "outputs": [],
   "source": [
    "df2014 = df2014.groupby(['month']).count()"
   ]
  },
  {
   "cell_type": "code",
   "execution_count": 58,
   "metadata": {},
   "outputs": [],
   "source": [
    "col_list = ['INCIDENT_KEY']\n",
    "df2014 = df2014[col_list]"
   ]
  },
  {
   "cell_type": "code",
   "execution_count": 59,
   "metadata": {},
   "outputs": [],
   "source": [
    "df2014['year'] = 2014"
   ]
  },
  {
   "cell_type": "code",
   "execution_count": 61,
   "metadata": {},
   "outputs": [],
   "source": [
    "df2014 = df2014.rename(columns={\"INCIDENT_KEY\": \"shootings\"})"
   ]
  },
  {
   "cell_type": "code",
   "execution_count": 62,
   "metadata": {},
   "outputs": [],
   "source": [
    "df2016 = df[df.year == 2016]\n",
    "df2016 = df2016.groupby(['month']).count()\n",
    "\n",
    "col_list = ['INCIDENT_KEY']\n",
    "df2016 = df2016[col_list]\n",
    "\n",
    "df2016 = df2016.rename(columns={\"INCIDENT_KEY\": \"shootings\"})\n",
    "df2016['year'] = 2016"
   ]
  },
  {
   "cell_type": "code",
   "execution_count": 63,
   "metadata": {},
   "outputs": [],
   "source": [
    "df2018 = df[df.year == 2018]\n",
    "df2018 = df2018.groupby(['month']).count()\n",
    "\n",
    "col_list = ['INCIDENT_KEY']\n",
    "df2018 = df2018[col_list]\n",
    "\n",
    "df2018 = df2018.rename(columns={\"INCIDENT_KEY\": \"shootings\"})\n",
    "\n",
    "df2018['year'] = 2018"
   ]
  },
  {
   "cell_type": "code",
   "execution_count": 64,
   "metadata": {},
   "outputs": [],
   "source": [
    "df2020 = df[df.year == 2020]\n",
    "df2020 = df2020.groupby(['month']).count()\n",
    "\n",
    "col_list = ['INCIDENT_KEY']\n",
    "df2020 = df2020[col_list]\n",
    "\n",
    "df2020 = df2020.rename(columns={\"INCIDENT_KEY\": \"shootings\"})\n",
    "\n",
    "df2020['year'] = 2020"
   ]
  },
  {
   "cell_type": "code",
   "execution_count": 65,
   "metadata": {},
   "outputs": [],
   "source": [
    "all_dfs = [df2014, df2016, df2018, df2020]"
   ]
  },
  {
   "cell_type": "code",
   "execution_count": 66,
   "metadata": {},
   "outputs": [],
   "source": [
    "for df in all_dfs:\n",
    "    df.columns = ['shootings', 'year']"
   ]
  },
  {
   "cell_type": "code",
   "execution_count": 69,
   "metadata": {},
   "outputs": [],
   "source": [
    "all_dfs = pd.concat(all_dfs).reset_index(drop=False)"
   ]
  },
  {
   "cell_type": "code",
   "execution_count": 72,
   "metadata": {},
   "outputs": [],
   "source": [
    "# all_dfs.to_csv(\"d3ScrollHW_new.csv\", index=False)"
   ]
  },
  {
   "cell_type": "code",
   "execution_count": null,
   "metadata": {},
   "outputs": [],
   "source": []
  }
 ],
 "metadata": {
  "kernelspec": {
   "display_name": "Python 3",
   "language": "python",
   "name": "python3"
  },
  "language_info": {
   "codemirror_mode": {
    "name": "ipython",
    "version": 3
   },
   "file_extension": ".py",
   "mimetype": "text/x-python",
   "name": "python",
   "nbconvert_exporter": "python",
   "pygments_lexer": "ipython3",
   "version": "3.8.2"
  }
 },
 "nbformat": 4,
 "nbformat_minor": 4
}
