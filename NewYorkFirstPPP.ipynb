{
 "cells": [
  {
   "cell_type": "code",
   "execution_count": 1,
   "metadata": {},
   "outputs": [
    {
     "name": "stderr",
     "output_type": "stream",
     "text": [
      "/Users/lisakim/.pyenv/versions/3.8.2/lib/python3.8/site-packages/pandas/compat/__init__.py:120: UserWarning: Could not import the lzma module. Your installed Python is incomplete. Attempting to use lzma compression will result in a RuntimeError.\n",
      "  warnings.warn(msg)\n"
     ]
    }
   ],
   "source": [
    "import pandas as pd\n",
    "import numpy as np\n",
    "\n",
    "pd.set_option(\"display.max_columns\", 200)\n",
    "pd.set_option(\"display.max_colwidth\", 200)"
   ]
  },
  {
   "cell_type": "code",
   "execution_count": 2,
   "metadata": {},
   "outputs": [
    {
     "name": "stdout",
     "output_type": "stream",
     "text": [
      "\u001b[34m2021_PPP_Data\u001b[m\u001b[m\r\n",
      "Adrian_Suggestion.docx\r\n",
      "BK_NYC_B.csv\r\n",
      "BK_NYC_BWBE.csv\r\n",
      "BK_NYC_MktSize_Employment_2019.csv\r\n",
      "BK_PPP_NYC_Firstdraw.csv\r\n",
      "BogyungKim_PPP_Article.docx\r\n",
      "ContactList.docx\r\n",
      "CwgNP-ppp-borrowers-by-ethnicity-and-race-in-nyc (2).png\r\n",
      "InterviewRecording_Jacqueline.m4a\r\n",
      "InterviewRecording_Ron.m4a\r\n",
      "InterviewTranscript_RonBusby.docx\r\n",
      "Interview_RonBusby.docx\r\n",
      "M_WBE__LBE__and_EBE_Certified_Business_List.csv\r\n",
      "NYC_qcew2019_version1.ipynb\r\n",
      "\u001b[34mNew York 0808\u001b[m\u001b[m\r\n",
      "NewYorkFirstPPP.ipynb\r\n",
      "\u001b[31mPPP Data 150k plus 080820.csv\u001b[m\u001b[m\r\n",
      "\u001b[31mPPP Data up to 150k 080820 NY.csv\u001b[m\u001b[m\r\n",
      "PPP_Firstdraw.csv\r\n",
      "PPP_Gender.png\r\n",
      "PPP_info.xlsx\r\n",
      "QdFUg-avg-amount-of-loan-per-borrower-by-race.png\r\n",
      "RnTUb-min-max-amount-issued-by-top-lenders.png\r\n",
      "Screen Shot 2021-02-18 at 4.34.14 AM.png\r\n",
      "Untitled.ipynb\r\n",
      "aH5cs-lenders-that-issued-ppp-to-black-borrowers-in-nyc.png\r\n",
      "aH5cs-lenders-that-issued-ppp-to-white-borrowers-in-nyc.png\r\n",
      "aisqf-ppp-loans-approved-by-industry-in-nyc (1).png\r\n",
      "\u001b[34mall 56 states, territories, and the District of Columbia. \u001b[m\u001b[m\r\n",
      "eQT40-number-of-loans-issued-in-nyc-by-lender.png\r\n",
      "\u001b[34mqcew\u001b[m\u001b[m\r\n",
      "qcew_2019annual.csv\r\n",
      "qcew_NYC2019.csv\r\n",
      "sbs_certified_businesses.xls\r\n"
     ]
    }
   ],
   "source": [
    "!ls"
   ]
  },
  {
   "cell_type": "markdown",
   "metadata": {},
   "source": [
    "## CSV file containing PPP Data up to $150K borrowed in New York State"
   ]
  },
  {
   "cell_type": "code",
   "execution_count": 3,
   "metadata": {},
   "outputs": [],
   "source": [
    "df = pd.read_csv(\"PPP Data up to 150k 080820 NY.csv\")"
   ]
  },
  {
   "cell_type": "code",
   "execution_count": 4,
   "metadata": {},
   "outputs": [
    {
     "data": {
      "text/html": [
       "<div>\n",
       "<style scoped>\n",
       "    .dataframe tbody tr th:only-of-type {\n",
       "        vertical-align: middle;\n",
       "    }\n",
       "\n",
       "    .dataframe tbody tr th {\n",
       "        vertical-align: top;\n",
       "    }\n",
       "\n",
       "    .dataframe thead th {\n",
       "        text-align: right;\n",
       "    }\n",
       "</style>\n",
       "<table border=\"1\" class=\"dataframe\">\n",
       "  <thead>\n",
       "    <tr style=\"text-align: right;\">\n",
       "      <th></th>\n",
       "      <th>LoanAmount</th>\n",
       "      <th>City</th>\n",
       "      <th>State</th>\n",
       "      <th>Zip</th>\n",
       "      <th>NAICSCode</th>\n",
       "      <th>BusinessType</th>\n",
       "      <th>RaceEthnicity</th>\n",
       "      <th>Gender</th>\n",
       "      <th>Veteran</th>\n",
       "      <th>NonProfit</th>\n",
       "      <th>JobsReported</th>\n",
       "      <th>DateApproved</th>\n",
       "      <th>Lender</th>\n",
       "      <th>CD</th>\n",
       "    </tr>\n",
       "  </thead>\n",
       "  <tbody>\n",
       "    <tr>\n",
       "      <th>0</th>\n",
       "      <td>149990.0</td>\n",
       "      <td>STATEN ISLAND</td>\n",
       "      <td>NY</td>\n",
       "      <td>10309.0</td>\n",
       "      <td>238340.0</td>\n",
       "      <td>Subchapter S Corporation</td>\n",
       "      <td>Unanswered</td>\n",
       "      <td>Unanswered</td>\n",
       "      <td>Unanswered</td>\n",
       "      <td>NaN</td>\n",
       "      <td>8.0</td>\n",
       "      <td>05/01/2020</td>\n",
       "      <td>JPMorgan Chase Bank, National Association</td>\n",
       "      <td>NY-11</td>\n",
       "    </tr>\n",
       "    <tr>\n",
       "      <th>1</th>\n",
       "      <td>149990.0</td>\n",
       "      <td>WHITESTONE</td>\n",
       "      <td>NY</td>\n",
       "      <td>11357.0</td>\n",
       "      <td>621210.0</td>\n",
       "      <td>Corporation</td>\n",
       "      <td>Unanswered</td>\n",
       "      <td>Male Owned</td>\n",
       "      <td>Non-Veteran</td>\n",
       "      <td>NaN</td>\n",
       "      <td>16.0</td>\n",
       "      <td>04/29/2020</td>\n",
       "      <td>JPMorgan Chase Bank, National Association</td>\n",
       "      <td>NY-03</td>\n",
       "    </tr>\n",
       "    <tr>\n",
       "      <th>2</th>\n",
       "      <td>149987.0</td>\n",
       "      <td>BROOKLYN</td>\n",
       "      <td>NY</td>\n",
       "      <td>11205.0</td>\n",
       "      <td>484110.0</td>\n",
       "      <td>Corporation</td>\n",
       "      <td>Asian</td>\n",
       "      <td>Male Owned</td>\n",
       "      <td>Non-Veteran</td>\n",
       "      <td>NaN</td>\n",
       "      <td>13.0</td>\n",
       "      <td>04/28/2020</td>\n",
       "      <td>East West Bank</td>\n",
       "      <td>NY-08</td>\n",
       "    </tr>\n",
       "    <tr>\n",
       "      <th>3</th>\n",
       "      <td>149982.0</td>\n",
       "      <td>ISLIP TERRACE</td>\n",
       "      <td>NY</td>\n",
       "      <td>11752.0</td>\n",
       "      <td>236115.0</td>\n",
       "      <td>Subchapter S Corporation</td>\n",
       "      <td>Unanswered</td>\n",
       "      <td>Unanswered</td>\n",
       "      <td>Unanswered</td>\n",
       "      <td>NaN</td>\n",
       "      <td>8.0</td>\n",
       "      <td>05/01/2020</td>\n",
       "      <td>JPMorgan Chase Bank, National Association</td>\n",
       "      <td>NY-02</td>\n",
       "    </tr>\n",
       "    <tr>\n",
       "      <th>4</th>\n",
       "      <td>149979.0</td>\n",
       "      <td>NEW YORK</td>\n",
       "      <td>NY</td>\n",
       "      <td>10005.0</td>\n",
       "      <td>541840.0</td>\n",
       "      <td>Subchapter S Corporation</td>\n",
       "      <td>Unanswered</td>\n",
       "      <td>Unanswered</td>\n",
       "      <td>Unanswered</td>\n",
       "      <td>NaN</td>\n",
       "      <td>11.0</td>\n",
       "      <td>05/01/2020</td>\n",
       "      <td>Haddon Savings Bank</td>\n",
       "      <td>NY-10</td>\n",
       "    </tr>\n",
       "  </tbody>\n",
       "</table>\n",
       "</div>"
      ],
      "text/plain": [
       "   LoanAmount           City State      Zip  NAICSCode  \\\n",
       "0    149990.0  STATEN ISLAND    NY  10309.0   238340.0   \n",
       "1    149990.0     WHITESTONE    NY  11357.0   621210.0   \n",
       "2    149987.0       BROOKLYN    NY  11205.0   484110.0   \n",
       "3    149982.0  ISLIP TERRACE    NY  11752.0   236115.0   \n",
       "4    149979.0       NEW YORK    NY  10005.0   541840.0   \n",
       "\n",
       "               BusinessType RaceEthnicity      Gender      Veteran NonProfit  \\\n",
       "0  Subchapter S Corporation    Unanswered  Unanswered   Unanswered       NaN   \n",
       "1               Corporation    Unanswered  Male Owned  Non-Veteran       NaN   \n",
       "2               Corporation         Asian  Male Owned  Non-Veteran       NaN   \n",
       "3  Subchapter S Corporation    Unanswered  Unanswered   Unanswered       NaN   \n",
       "4  Subchapter S Corporation    Unanswered  Unanswered   Unanswered       NaN   \n",
       "\n",
       "   JobsReported DateApproved                                     Lender     CD  \n",
       "0           8.0   05/01/2020  JPMorgan Chase Bank, National Association  NY-11  \n",
       "1          16.0   04/29/2020  JPMorgan Chase Bank, National Association  NY-03  \n",
       "2          13.0   04/28/2020                             East West Bank  NY-08  \n",
       "3           8.0   05/01/2020  JPMorgan Chase Bank, National Association  NY-02  \n",
       "4          11.0   05/01/2020                        Haddon Savings Bank  NY-10  "
      ]
     },
     "execution_count": 4,
     "metadata": {},
     "output_type": "execute_result"
    }
   ],
   "source": [
    "df.head()"
   ]
  },
  {
   "cell_type": "code",
   "execution_count": 5,
   "metadata": {},
   "outputs": [
    {
     "data": {
      "text/plain": [
       "(301795, 14)"
      ]
     },
     "execution_count": 5,
     "metadata": {},
     "output_type": "execute_result"
    }
   ],
   "source": [
    "df.shape"
   ]
  },
  {
   "cell_type": "code",
   "execution_count": 6,
   "metadata": {},
   "outputs": [
    {
     "data": {
      "text/plain": [
       "LoanAmount       float64\n",
       "City              object\n",
       "State             object\n",
       "Zip              float64\n",
       "NAICSCode        float64\n",
       "BusinessType      object\n",
       "RaceEthnicity     object\n",
       "Gender            object\n",
       "Veteran           object\n",
       "NonProfit         object\n",
       "JobsReported     float64\n",
       "DateApproved      object\n",
       "Lender            object\n",
       "CD                object\n",
       "dtype: object"
      ]
     },
     "execution_count": 6,
     "metadata": {},
     "output_type": "execute_result"
    }
   ],
   "source": [
    "df.dtypes"
   ]
  },
  {
   "cell_type": "code",
   "execution_count": null,
   "metadata": {},
   "outputs": [],
   "source": []
  },
  {
   "cell_type": "markdown",
   "metadata": {},
   "source": [
    "## CSV file containing data on $150K plus loans approved"
   ]
  },
  {
   "cell_type": "code",
   "execution_count": 7,
   "metadata": {},
   "outputs": [
    {
     "data": {
      "text/html": [
       "<div>\n",
       "<style scoped>\n",
       "    .dataframe tbody tr th:only-of-type {\n",
       "        vertical-align: middle;\n",
       "    }\n",
       "\n",
       "    .dataframe tbody tr th {\n",
       "        vertical-align: top;\n",
       "    }\n",
       "\n",
       "    .dataframe thead th {\n",
       "        text-align: right;\n",
       "    }\n",
       "</style>\n",
       "<table border=\"1\" class=\"dataframe\">\n",
       "  <thead>\n",
       "    <tr style=\"text-align: right;\">\n",
       "      <th></th>\n",
       "      <th>LoanRange</th>\n",
       "      <th>BusinessName</th>\n",
       "      <th>Address</th>\n",
       "      <th>City</th>\n",
       "      <th>State</th>\n",
       "      <th>Zip</th>\n",
       "      <th>NAICSCode</th>\n",
       "      <th>BusinessType</th>\n",
       "      <th>RaceEthnicity</th>\n",
       "      <th>Gender</th>\n",
       "      <th>Veteran</th>\n",
       "      <th>NonProfit</th>\n",
       "      <th>JobsReported</th>\n",
       "      <th>DateApproved</th>\n",
       "      <th>Lender</th>\n",
       "      <th>CD</th>\n",
       "    </tr>\n",
       "  </thead>\n",
       "  <tbody>\n",
       "    <tr>\n",
       "      <th>0</th>\n",
       "      <td>d $350,000-1 million</td>\n",
       "      <td>AERO BOX LLC</td>\n",
       "      <td>NaN</td>\n",
       "      <td>NaN</td>\n",
       "      <td>NaN</td>\n",
       "      <td>NaN</td>\n",
       "      <td>484210.0</td>\n",
       "      <td>NaN</td>\n",
       "      <td>Unanswered</td>\n",
       "      <td>Unanswered</td>\n",
       "      <td>Unanswered</td>\n",
       "      <td>NaN</td>\n",
       "      <td>NaN</td>\n",
       "      <td>05/03/2020</td>\n",
       "      <td>The Huntington National Bank</td>\n",
       "      <td>NaN</td>\n",
       "    </tr>\n",
       "    <tr>\n",
       "      <th>1</th>\n",
       "      <td>d $350,000-1 million</td>\n",
       "      <td>BOYER CHILDREN'S CLINIC</td>\n",
       "      <td>1850 BOYER AVE E</td>\n",
       "      <td>SEATTLE</td>\n",
       "      <td>NaN</td>\n",
       "      <td>98112.0</td>\n",
       "      <td>NaN</td>\n",
       "      <td>Non-Profit Organization</td>\n",
       "      <td>Unanswered</td>\n",
       "      <td>Unanswered</td>\n",
       "      <td>Unanswered</td>\n",
       "      <td>Y</td>\n",
       "      <td>75.0</td>\n",
       "      <td>05/03/2020</td>\n",
       "      <td>Bank of America, National Association</td>\n",
       "      <td>WA-07</td>\n",
       "    </tr>\n",
       "  </tbody>\n",
       "</table>\n",
       "</div>"
      ],
      "text/plain": [
       "              LoanRange             BusinessName           Address     City  \\\n",
       "0  d $350,000-1 million             AERO BOX LLC               NaN      NaN   \n",
       "1  d $350,000-1 million  BOYER CHILDREN'S CLINIC  1850 BOYER AVE E  SEATTLE   \n",
       "\n",
       "  State      Zip  NAICSCode             BusinessType RaceEthnicity  \\\n",
       "0   NaN      NaN   484210.0                      NaN    Unanswered   \n",
       "1   NaN  98112.0        NaN  Non-Profit Organization    Unanswered   \n",
       "\n",
       "       Gender     Veteran NonProfit  JobsReported DateApproved  \\\n",
       "0  Unanswered  Unanswered       NaN           NaN   05/03/2020   \n",
       "1  Unanswered  Unanswered         Y          75.0   05/03/2020   \n",
       "\n",
       "                                  Lender     CD  \n",
       "0           The Huntington National Bank    NaN  \n",
       "1  Bank of America, National Association  WA-07  "
      ]
     },
     "execution_count": 7,
     "metadata": {},
     "output_type": "execute_result"
    }
   ],
   "source": [
    "df2 = pd.read_csv(\"PPP Data 150k plus 080820.csv\")\n",
    "df2.head(2)"
   ]
  },
  {
   "cell_type": "code",
   "execution_count": 8,
   "metadata": {},
   "outputs": [
    {
     "data": {
      "text/plain": [
       "(662515, 16)"
      ]
     },
     "execution_count": 8,
     "metadata": {},
     "output_type": "execute_result"
    }
   ],
   "source": [
    "df2.shape"
   ]
  },
  {
   "cell_type": "code",
   "execution_count": null,
   "metadata": {},
   "outputs": [],
   "source": []
  },
  {
   "cell_type": "markdown",
   "metadata": {},
   "source": [
    "### Narrowing down data to New York State"
   ]
  },
  {
   "cell_type": "code",
   "execution_count": 9,
   "metadata": {},
   "outputs": [
    {
     "data": {
      "text/html": [
       "<div>\n",
       "<style scoped>\n",
       "    .dataframe tbody tr th:only-of-type {\n",
       "        vertical-align: middle;\n",
       "    }\n",
       "\n",
       "    .dataframe tbody tr th {\n",
       "        vertical-align: top;\n",
       "    }\n",
       "\n",
       "    .dataframe thead th {\n",
       "        text-align: right;\n",
       "    }\n",
       "</style>\n",
       "<table border=\"1\" class=\"dataframe\">\n",
       "  <thead>\n",
       "    <tr style=\"text-align: right;\">\n",
       "      <th></th>\n",
       "      <th>LoanRange</th>\n",
       "      <th>BusinessName</th>\n",
       "      <th>Address</th>\n",
       "      <th>City</th>\n",
       "      <th>State</th>\n",
       "      <th>Zip</th>\n",
       "      <th>NAICSCode</th>\n",
       "      <th>BusinessType</th>\n",
       "      <th>RaceEthnicity</th>\n",
       "      <th>Gender</th>\n",
       "      <th>Veteran</th>\n",
       "      <th>NonProfit</th>\n",
       "      <th>JobsReported</th>\n",
       "      <th>DateApproved</th>\n",
       "      <th>Lender</th>\n",
       "      <th>CD</th>\n",
       "    </tr>\n",
       "  </thead>\n",
       "  <tbody>\n",
       "    <tr>\n",
       "      <th>416141</th>\n",
       "      <td>a $5-10 million</td>\n",
       "      <td>1186 BROADWAY RESTAURANT LLC</td>\n",
       "      <td>30 W 26th Street Floor 12</td>\n",
       "      <td>NEW YORK</td>\n",
       "      <td>NY</td>\n",
       "      <td>10010.0</td>\n",
       "      <td>721110.0</td>\n",
       "      <td>Limited  Liability Company(LLC)</td>\n",
       "      <td>Unanswered</td>\n",
       "      <td>Unanswered</td>\n",
       "      <td>Unanswered</td>\n",
       "      <td>NaN</td>\n",
       "      <td>417.0</td>\n",
       "      <td>04/15/2020</td>\n",
       "      <td>BMO Harris Bank National Association</td>\n",
       "      <td>NY-12</td>\n",
       "    </tr>\n",
       "    <tr>\n",
       "      <th>416142</th>\n",
       "      <td>a $5-10 million</td>\n",
       "      <td>2012 USP HOLDINGS, INC.</td>\n",
       "      <td>570 Elmont Road</td>\n",
       "      <td>Elmont</td>\n",
       "      <td>NY</td>\n",
       "      <td>11003.0</td>\n",
       "      <td>511120.0</td>\n",
       "      <td>Subchapter S Corporation</td>\n",
       "      <td>Unanswered</td>\n",
       "      <td>Unanswered</td>\n",
       "      <td>Unanswered</td>\n",
       "      <td>NaN</td>\n",
       "      <td>500.0</td>\n",
       "      <td>04/15/2020</td>\n",
       "      <td>Manufacturers and Traders Trust Company</td>\n",
       "      <td>NY-04</td>\n",
       "    </tr>\n",
       "  </tbody>\n",
       "</table>\n",
       "</div>"
      ],
      "text/plain": [
       "              LoanRange                  BusinessName  \\\n",
       "416141  a $5-10 million  1186 BROADWAY RESTAURANT LLC   \n",
       "416142  a $5-10 million       2012 USP HOLDINGS, INC.   \n",
       "\n",
       "                          Address      City State      Zip  NAICSCode  \\\n",
       "416141  30 W 26th Street Floor 12  NEW YORK    NY  10010.0   721110.0   \n",
       "416142            570 Elmont Road    Elmont    NY  11003.0   511120.0   \n",
       "\n",
       "                           BusinessType RaceEthnicity      Gender     Veteran  \\\n",
       "416141  Limited  Liability Company(LLC)    Unanswered  Unanswered  Unanswered   \n",
       "416142         Subchapter S Corporation    Unanswered  Unanswered  Unanswered   \n",
       "\n",
       "       NonProfit  JobsReported DateApproved  \\\n",
       "416141       NaN         417.0   04/15/2020   \n",
       "416142       NaN         500.0   04/15/2020   \n",
       "\n",
       "                                         Lender     CD  \n",
       "416141     BMO Harris Bank National Association  NY-12  \n",
       "416142  Manufacturers and Traders Trust Company  NY-04  "
      ]
     },
     "execution_count": 9,
     "metadata": {},
     "output_type": "execute_result"
    }
   ],
   "source": [
    "df2 = df2[df2['CD'].str.contains(\"NY\", na=False)]\n",
    "df2.head(2)"
   ]
  },
  {
   "cell_type": "code",
   "execution_count": 10,
   "metadata": {},
   "outputs": [
    {
     "data": {
      "text/plain": [
       "(47065, 16)"
      ]
     },
     "execution_count": 10,
     "metadata": {},
     "output_type": "execute_result"
    }
   ],
   "source": [
    "df2.shape"
   ]
  },
  {
   "cell_type": "code",
   "execution_count": null,
   "metadata": {},
   "outputs": [],
   "source": []
  },
  {
   "cell_type": "markdown",
   "metadata": {},
   "source": [
    "## Merging df and df2"
   ]
  },
  {
   "cell_type": "markdown",
   "metadata": {},
   "source": [
    "#### Organizing df and df2 before merging the two"
   ]
  },
  {
   "cell_type": "code",
   "execution_count": 11,
   "metadata": {},
   "outputs": [
    {
     "data": {
      "text/html": [
       "<div>\n",
       "<style scoped>\n",
       "    .dataframe tbody tr th:only-of-type {\n",
       "        vertical-align: middle;\n",
       "    }\n",
       "\n",
       "    .dataframe tbody tr th {\n",
       "        vertical-align: top;\n",
       "    }\n",
       "\n",
       "    .dataframe thead th {\n",
       "        text-align: right;\n",
       "    }\n",
       "</style>\n",
       "<table border=\"1\" class=\"dataframe\">\n",
       "  <thead>\n",
       "    <tr style=\"text-align: right;\">\n",
       "      <th></th>\n",
       "      <th>LoanRange</th>\n",
       "      <th>BusinessName</th>\n",
       "      <th>Address</th>\n",
       "      <th>City</th>\n",
       "      <th>State</th>\n",
       "      <th>Zip</th>\n",
       "      <th>NAICSCode</th>\n",
       "      <th>BusinessType</th>\n",
       "      <th>RaceEthnicity</th>\n",
       "      <th>Gender</th>\n",
       "      <th>Veteran</th>\n",
       "      <th>NonProfit</th>\n",
       "      <th>JobsReported</th>\n",
       "      <th>DateApproved</th>\n",
       "      <th>Lender</th>\n",
       "      <th>CD</th>\n",
       "    </tr>\n",
       "  </thead>\n",
       "  <tbody>\n",
       "    <tr>\n",
       "      <th>416141</th>\n",
       "      <td>a $5-10 million</td>\n",
       "      <td>1186 BROADWAY RESTAURANT LLC</td>\n",
       "      <td>30 W 26th Street Floor 12</td>\n",
       "      <td>NEW YORK</td>\n",
       "      <td>NY</td>\n",
       "      <td>10010.0</td>\n",
       "      <td>721110.0</td>\n",
       "      <td>Limited  Liability Company(LLC)</td>\n",
       "      <td>Unanswered</td>\n",
       "      <td>Unanswered</td>\n",
       "      <td>Unanswered</td>\n",
       "      <td>NaN</td>\n",
       "      <td>417.0</td>\n",
       "      <td>04/15/2020</td>\n",
       "      <td>BMO Harris Bank National Association</td>\n",
       "      <td>NY-12</td>\n",
       "    </tr>\n",
       "    <tr>\n",
       "      <th>416142</th>\n",
       "      <td>a $5-10 million</td>\n",
       "      <td>2012 USP HOLDINGS, INC.</td>\n",
       "      <td>570 Elmont Road</td>\n",
       "      <td>Elmont</td>\n",
       "      <td>NY</td>\n",
       "      <td>11003.0</td>\n",
       "      <td>511120.0</td>\n",
       "      <td>Subchapter S Corporation</td>\n",
       "      <td>Unanswered</td>\n",
       "      <td>Unanswered</td>\n",
       "      <td>Unanswered</td>\n",
       "      <td>NaN</td>\n",
       "      <td>500.0</td>\n",
       "      <td>04/15/2020</td>\n",
       "      <td>Manufacturers and Traders Trust Company</td>\n",
       "      <td>NY-04</td>\n",
       "    </tr>\n",
       "  </tbody>\n",
       "</table>\n",
       "</div>"
      ],
      "text/plain": [
       "              LoanRange                  BusinessName  \\\n",
       "416141  a $5-10 million  1186 BROADWAY RESTAURANT LLC   \n",
       "416142  a $5-10 million       2012 USP HOLDINGS, INC.   \n",
       "\n",
       "                          Address      City State      Zip  NAICSCode  \\\n",
       "416141  30 W 26th Street Floor 12  NEW YORK    NY  10010.0   721110.0   \n",
       "416142            570 Elmont Road    Elmont    NY  11003.0   511120.0   \n",
       "\n",
       "                           BusinessType RaceEthnicity      Gender     Veteran  \\\n",
       "416141  Limited  Liability Company(LLC)    Unanswered  Unanswered  Unanswered   \n",
       "416142         Subchapter S Corporation    Unanswered  Unanswered  Unanswered   \n",
       "\n",
       "       NonProfit  JobsReported DateApproved  \\\n",
       "416141       NaN         417.0   04/15/2020   \n",
       "416142       NaN         500.0   04/15/2020   \n",
       "\n",
       "                                         Lender     CD  \n",
       "416141     BMO Harris Bank National Association  NY-12  \n",
       "416142  Manufacturers and Traders Trust Company  NY-04  "
      ]
     },
     "execution_count": 11,
     "metadata": {},
     "output_type": "execute_result"
    }
   ],
   "source": [
    "df2.head(2)"
   ]
  },
  {
   "cell_type": "code",
   "execution_count": 12,
   "metadata": {},
   "outputs": [
    {
     "data": {
      "text/html": [
       "<div>\n",
       "<style scoped>\n",
       "    .dataframe tbody tr th:only-of-type {\n",
       "        vertical-align: middle;\n",
       "    }\n",
       "\n",
       "    .dataframe tbody tr th {\n",
       "        vertical-align: top;\n",
       "    }\n",
       "\n",
       "    .dataframe thead th {\n",
       "        text-align: right;\n",
       "    }\n",
       "</style>\n",
       "<table border=\"1\" class=\"dataframe\">\n",
       "  <thead>\n",
       "    <tr style=\"text-align: right;\">\n",
       "      <th></th>\n",
       "      <th>LoanRange</th>\n",
       "      <th>Zip</th>\n",
       "      <th>NAICSCode</th>\n",
       "      <th>City</th>\n",
       "      <th>BusinessType</th>\n",
       "      <th>RaceEthnicity</th>\n",
       "      <th>Gender</th>\n",
       "      <th>Lender</th>\n",
       "      <th>CD</th>\n",
       "    </tr>\n",
       "  </thead>\n",
       "  <tbody>\n",
       "    <tr>\n",
       "      <th>416141</th>\n",
       "      <td>a $5-10 million</td>\n",
       "      <td>10010.0</td>\n",
       "      <td>721110.0</td>\n",
       "      <td>NEW YORK</td>\n",
       "      <td>Limited  Liability Company(LLC)</td>\n",
       "      <td>Unanswered</td>\n",
       "      <td>Unanswered</td>\n",
       "      <td>BMO Harris Bank National Association</td>\n",
       "      <td>NY-12</td>\n",
       "    </tr>\n",
       "    <tr>\n",
       "      <th>416142</th>\n",
       "      <td>a $5-10 million</td>\n",
       "      <td>11003.0</td>\n",
       "      <td>511120.0</td>\n",
       "      <td>Elmont</td>\n",
       "      <td>Subchapter S Corporation</td>\n",
       "      <td>Unanswered</td>\n",
       "      <td>Unanswered</td>\n",
       "      <td>Manufacturers and Traders Trust Company</td>\n",
       "      <td>NY-04</td>\n",
       "    </tr>\n",
       "  </tbody>\n",
       "</table>\n",
       "</div>"
      ],
      "text/plain": [
       "              LoanRange      Zip  NAICSCode      City  \\\n",
       "416141  a $5-10 million  10010.0   721110.0  NEW YORK   \n",
       "416142  a $5-10 million  11003.0   511120.0    Elmont   \n",
       "\n",
       "                           BusinessType RaceEthnicity      Gender  \\\n",
       "416141  Limited  Liability Company(LLC)    Unanswered  Unanswered   \n",
       "416142         Subchapter S Corporation    Unanswered  Unanswered   \n",
       "\n",
       "                                         Lender     CD  \n",
       "416141     BMO Harris Bank National Association  NY-12  \n",
       "416142  Manufacturers and Traders Trust Company  NY-04  "
      ]
     },
     "execution_count": 12,
     "metadata": {},
     "output_type": "execute_result"
    }
   ],
   "source": [
    "df2 = df2[['LoanRange', 'Zip', 'NAICSCode', 'City', 'BusinessType', 'RaceEthnicity', 'Gender', 'Lender', 'CD']]\n",
    "df2.head(2)"
   ]
  },
  {
   "cell_type": "code",
   "execution_count": 13,
   "metadata": {},
   "outputs": [],
   "source": [
    "df2.rename(columns={'LoanRange':'LoanAmount'}, inplace=True)"
   ]
  },
  {
   "cell_type": "code",
   "execution_count": 14,
   "metadata": {},
   "outputs": [
    {
     "data": {
      "text/html": [
       "<div>\n",
       "<style scoped>\n",
       "    .dataframe tbody tr th:only-of-type {\n",
       "        vertical-align: middle;\n",
       "    }\n",
       "\n",
       "    .dataframe tbody tr th {\n",
       "        vertical-align: top;\n",
       "    }\n",
       "\n",
       "    .dataframe thead th {\n",
       "        text-align: right;\n",
       "    }\n",
       "</style>\n",
       "<table border=\"1\" class=\"dataframe\">\n",
       "  <thead>\n",
       "    <tr style=\"text-align: right;\">\n",
       "      <th></th>\n",
       "      <th>LoanAmount</th>\n",
       "      <th>Zip</th>\n",
       "      <th>NAICSCode</th>\n",
       "      <th>City</th>\n",
       "      <th>BusinessType</th>\n",
       "      <th>RaceEthnicity</th>\n",
       "      <th>Gender</th>\n",
       "      <th>Lender</th>\n",
       "      <th>CD</th>\n",
       "    </tr>\n",
       "  </thead>\n",
       "  <tbody>\n",
       "    <tr>\n",
       "      <th>416141</th>\n",
       "      <td>a $5-10 million</td>\n",
       "      <td>10010.0</td>\n",
       "      <td>721110.0</td>\n",
       "      <td>NEW YORK</td>\n",
       "      <td>Limited  Liability Company(LLC)</td>\n",
       "      <td>Unanswered</td>\n",
       "      <td>Unanswered</td>\n",
       "      <td>BMO Harris Bank National Association</td>\n",
       "      <td>NY-12</td>\n",
       "    </tr>\n",
       "    <tr>\n",
       "      <th>416142</th>\n",
       "      <td>a $5-10 million</td>\n",
       "      <td>11003.0</td>\n",
       "      <td>511120.0</td>\n",
       "      <td>Elmont</td>\n",
       "      <td>Subchapter S Corporation</td>\n",
       "      <td>Unanswered</td>\n",
       "      <td>Unanswered</td>\n",
       "      <td>Manufacturers and Traders Trust Company</td>\n",
       "      <td>NY-04</td>\n",
       "    </tr>\n",
       "  </tbody>\n",
       "</table>\n",
       "</div>"
      ],
      "text/plain": [
       "             LoanAmount      Zip  NAICSCode      City  \\\n",
       "416141  a $5-10 million  10010.0   721110.0  NEW YORK   \n",
       "416142  a $5-10 million  11003.0   511120.0    Elmont   \n",
       "\n",
       "                           BusinessType RaceEthnicity      Gender  \\\n",
       "416141  Limited  Liability Company(LLC)    Unanswered  Unanswered   \n",
       "416142         Subchapter S Corporation    Unanswered  Unanswered   \n",
       "\n",
       "                                         Lender     CD  \n",
       "416141     BMO Harris Bank National Association  NY-12  \n",
       "416142  Manufacturers and Traders Trust Company  NY-04  "
      ]
     },
     "execution_count": 14,
     "metadata": {},
     "output_type": "execute_result"
    }
   ],
   "source": [
    "df2.head(2)"
   ]
  },
  {
   "cell_type": "code",
   "execution_count": 15,
   "metadata": {},
   "outputs": [
    {
     "data": {
      "text/html": [
       "<div>\n",
       "<style scoped>\n",
       "    .dataframe tbody tr th:only-of-type {\n",
       "        vertical-align: middle;\n",
       "    }\n",
       "\n",
       "    .dataframe tbody tr th {\n",
       "        vertical-align: top;\n",
       "    }\n",
       "\n",
       "    .dataframe thead th {\n",
       "        text-align: right;\n",
       "    }\n",
       "</style>\n",
       "<table border=\"1\" class=\"dataframe\">\n",
       "  <thead>\n",
       "    <tr style=\"text-align: right;\">\n",
       "      <th></th>\n",
       "      <th>LoanAmount</th>\n",
       "      <th>Zip</th>\n",
       "      <th>NAICSCode</th>\n",
       "      <th>City</th>\n",
       "      <th>BusinessType</th>\n",
       "      <th>RaceEthnicity</th>\n",
       "      <th>Gender</th>\n",
       "      <th>Lender</th>\n",
       "      <th>CD</th>\n",
       "    </tr>\n",
       "  </thead>\n",
       "  <tbody>\n",
       "    <tr>\n",
       "      <th>0</th>\n",
       "      <td>149990.0</td>\n",
       "      <td>10309.0</td>\n",
       "      <td>238340.0</td>\n",
       "      <td>STATEN ISLAND</td>\n",
       "      <td>Subchapter S Corporation</td>\n",
       "      <td>Unanswered</td>\n",
       "      <td>Unanswered</td>\n",
       "      <td>JPMorgan Chase Bank, National Association</td>\n",
       "      <td>NY-11</td>\n",
       "    </tr>\n",
       "    <tr>\n",
       "      <th>1</th>\n",
       "      <td>149990.0</td>\n",
       "      <td>11357.0</td>\n",
       "      <td>621210.0</td>\n",
       "      <td>WHITESTONE</td>\n",
       "      <td>Corporation</td>\n",
       "      <td>Unanswered</td>\n",
       "      <td>Male Owned</td>\n",
       "      <td>JPMorgan Chase Bank, National Association</td>\n",
       "      <td>NY-03</td>\n",
       "    </tr>\n",
       "  </tbody>\n",
       "</table>\n",
       "</div>"
      ],
      "text/plain": [
       "   LoanAmount      Zip  NAICSCode           City              BusinessType  \\\n",
       "0    149990.0  10309.0   238340.0  STATEN ISLAND  Subchapter S Corporation   \n",
       "1    149990.0  11357.0   621210.0     WHITESTONE               Corporation   \n",
       "\n",
       "  RaceEthnicity      Gender                                     Lender     CD  \n",
       "0    Unanswered  Unanswered  JPMorgan Chase Bank, National Association  NY-11  \n",
       "1    Unanswered  Male Owned  JPMorgan Chase Bank, National Association  NY-03  "
      ]
     },
     "execution_count": 15,
     "metadata": {},
     "output_type": "execute_result"
    }
   ],
   "source": [
    "df = df[['LoanAmount', 'Zip', 'NAICSCode', 'City', 'BusinessType', 'RaceEthnicity', 'Gender', 'Lender', 'CD']]\n",
    "df.head(2)"
   ]
  },
  {
   "cell_type": "markdown",
   "metadata": {},
   "source": [
    "#### Merging the two dataframes"
   ]
  },
  {
   "cell_type": "code",
   "execution_count": 16,
   "metadata": {},
   "outputs": [
    {
     "data": {
      "text/html": [
       "<div>\n",
       "<style scoped>\n",
       "    .dataframe tbody tr th:only-of-type {\n",
       "        vertical-align: middle;\n",
       "    }\n",
       "\n",
       "    .dataframe tbody tr th {\n",
       "        vertical-align: top;\n",
       "    }\n",
       "\n",
       "    .dataframe thead th {\n",
       "        text-align: right;\n",
       "    }\n",
       "</style>\n",
       "<table border=\"1\" class=\"dataframe\">\n",
       "  <thead>\n",
       "    <tr style=\"text-align: right;\">\n",
       "      <th></th>\n",
       "      <th>LoanAmount</th>\n",
       "      <th>Zip</th>\n",
       "      <th>NAICSCode</th>\n",
       "      <th>City</th>\n",
       "      <th>BusinessType</th>\n",
       "      <th>RaceEthnicity</th>\n",
       "      <th>Gender</th>\n",
       "      <th>Lender</th>\n",
       "      <th>CD</th>\n",
       "    </tr>\n",
       "  </thead>\n",
       "  <tbody>\n",
       "    <tr>\n",
       "      <th>0</th>\n",
       "      <td>149990</td>\n",
       "      <td>10309.0</td>\n",
       "      <td>238340.0</td>\n",
       "      <td>STATEN ISLAND</td>\n",
       "      <td>Subchapter S Corporation</td>\n",
       "      <td>Unanswered</td>\n",
       "      <td>Unanswered</td>\n",
       "      <td>JPMorgan Chase Bank, National Association</td>\n",
       "      <td>NY-11</td>\n",
       "    </tr>\n",
       "    <tr>\n",
       "      <th>1</th>\n",
       "      <td>149990</td>\n",
       "      <td>11357.0</td>\n",
       "      <td>621210.0</td>\n",
       "      <td>WHITESTONE</td>\n",
       "      <td>Corporation</td>\n",
       "      <td>Unanswered</td>\n",
       "      <td>Male Owned</td>\n",
       "      <td>JPMorgan Chase Bank, National Association</td>\n",
       "      <td>NY-03</td>\n",
       "    </tr>\n",
       "  </tbody>\n",
       "</table>\n",
       "</div>"
      ],
      "text/plain": [
       "  LoanAmount      Zip  NAICSCode           City              BusinessType  \\\n",
       "0     149990  10309.0   238340.0  STATEN ISLAND  Subchapter S Corporation   \n",
       "1     149990  11357.0   621210.0     WHITESTONE               Corporation   \n",
       "\n",
       "  RaceEthnicity      Gender                                     Lender     CD  \n",
       "0    Unanswered  Unanswered  JPMorgan Chase Bank, National Association  NY-11  \n",
       "1    Unanswered  Male Owned  JPMorgan Chase Bank, National Association  NY-03  "
      ]
     },
     "execution_count": 16,
     "metadata": {},
     "output_type": "execute_result"
    }
   ],
   "source": [
    "df_Joined = pd.concat([df, df2])\n",
    "df_Joined.head(2)"
   ]
  },
  {
   "cell_type": "code",
   "execution_count": 17,
   "metadata": {},
   "outputs": [
    {
     "data": {
      "text/plain": [
       "(348860, 9)"
      ]
     },
     "execution_count": 17,
     "metadata": {},
     "output_type": "execute_result"
    }
   ],
   "source": [
    "df_Joined.shape"
   ]
  },
  {
   "cell_type": "markdown",
   "metadata": {},
   "source": [
    "## Narrowing df_Joined to New York City"
   ]
  },
  {
   "cell_type": "code",
   "execution_count": 18,
   "metadata": {},
   "outputs": [],
   "source": [
    "# NY - 3, 5, 6, 7, 8, 9, 10, 11, 12, 13, 14, 15, 16"
   ]
  },
  {
   "cell_type": "code",
   "execution_count": 19,
   "metadata": {},
   "outputs": [],
   "source": [
    "# Kings and Queens, the two westernmost counties, are also boroughs of New York City.\n",
    "df_Joined1 = df_Joined[df_Joined.CD == 'NY-03']\n",
    "\n",
    "df_Joined3 = df_Joined[df_Joined.CD == 'NY-05']\n",
    "#Most of the district is in Queens, but a small portion is located in Nassau County. \n",
    "\n",
    "df_Joined4 = df_Joined[df_Joined.CD == 'NY-06']\n",
    "df_Joined5 = df_Joined[df_Joined.CD == 'NY-08']\n",
    "df_Joined6 = df_Joined[df_Joined.CD == 'NY-10']\n",
    "df_Joined7 = df_Joined[df_Joined.CD == 'NY-11']\n",
    "df_Joined8 = df_Joined[df_Joined.CD == 'NY-12']\n",
    "df_Joined9 = df_Joined[df_Joined.CD == 'NY-13']\n",
    "df_Joined10 = df_Joined[df_Joined.CD == 'NY-14']\n",
    "df_Joined11 = df_Joined[df_Joined.CD == 'NY-15']\n",
    "df_Joined12 = df_Joined[df_Joined.CD == 'NY-16']\n",
    "df_Joined13 = df_Joined[df_Joined.CD == 'NY-09']\n",
    "df_Joined15 = df_Joined[df_Joined.CD == 'NY-07']"
   ]
  },
  {
   "cell_type": "code",
   "execution_count": 20,
   "metadata": {},
   "outputs": [
    {
     "data": {
      "text/html": [
       "<div>\n",
       "<style scoped>\n",
       "    .dataframe tbody tr th:only-of-type {\n",
       "        vertical-align: middle;\n",
       "    }\n",
       "\n",
       "    .dataframe tbody tr th {\n",
       "        vertical-align: top;\n",
       "    }\n",
       "\n",
       "    .dataframe thead th {\n",
       "        text-align: right;\n",
       "    }\n",
       "</style>\n",
       "<table border=\"1\" class=\"dataframe\">\n",
       "  <thead>\n",
       "    <tr style=\"text-align: right;\">\n",
       "      <th></th>\n",
       "      <th>LoanAmount</th>\n",
       "      <th>Zip</th>\n",
       "      <th>NAICSCode</th>\n",
       "      <th>City</th>\n",
       "      <th>BusinessType</th>\n",
       "      <th>RaceEthnicity</th>\n",
       "      <th>Gender</th>\n",
       "      <th>Lender</th>\n",
       "      <th>CD</th>\n",
       "    </tr>\n",
       "  </thead>\n",
       "  <tbody>\n",
       "    <tr>\n",
       "      <th>1</th>\n",
       "      <td>149990</td>\n",
       "      <td>11357.0</td>\n",
       "      <td>621210.0</td>\n",
       "      <td>WHITESTONE</td>\n",
       "      <td>Corporation</td>\n",
       "      <td>Unanswered</td>\n",
       "      <td>Male Owned</td>\n",
       "      <td>JPMorgan Chase Bank, National Association</td>\n",
       "      <td>NY-03</td>\n",
       "    </tr>\n",
       "    <tr>\n",
       "      <th>13</th>\n",
       "      <td>149938</td>\n",
       "      <td>11753.0</td>\n",
       "      <td>721110.0</td>\n",
       "      <td>Jericho</td>\n",
       "      <td>Limited  Liability Company(LLC)</td>\n",
       "      <td>Asian</td>\n",
       "      <td>Male Owned</td>\n",
       "      <td>KEB Hana Bank USA, National Association</td>\n",
       "      <td>NY-03</td>\n",
       "    </tr>\n",
       "    <tr>\n",
       "      <th>25</th>\n",
       "      <td>149900</td>\n",
       "      <td>11021.0</td>\n",
       "      <td>541211.0</td>\n",
       "      <td>Great Neck</td>\n",
       "      <td>Limited  Liability Company(LLC)</td>\n",
       "      <td>Unanswered</td>\n",
       "      <td>Unanswered</td>\n",
       "      <td>Sterling National Bank</td>\n",
       "      <td>NY-03</td>\n",
       "    </tr>\n",
       "    <tr>\n",
       "      <th>34</th>\n",
       "      <td>149872</td>\n",
       "      <td>11714.0</td>\n",
       "      <td>999990.0</td>\n",
       "      <td>BETHPAGE</td>\n",
       "      <td>Limited  Liability Company(LLC)</td>\n",
       "      <td>Unanswered</td>\n",
       "      <td>Unanswered</td>\n",
       "      <td>JPMorgan Chase Bank, National Association</td>\n",
       "      <td>NY-03</td>\n",
       "    </tr>\n",
       "    <tr>\n",
       "      <th>71</th>\n",
       "      <td>149700</td>\n",
       "      <td>11023.0</td>\n",
       "      <td>813110.0</td>\n",
       "      <td>Great Neck</td>\n",
       "      <td>Professional Association</td>\n",
       "      <td>Unanswered</td>\n",
       "      <td>Unanswered</td>\n",
       "      <td>Sterling National Bank</td>\n",
       "      <td>NY-03</td>\n",
       "    </tr>\n",
       "    <tr>\n",
       "      <th>...</th>\n",
       "      <td>...</td>\n",
       "      <td>...</td>\n",
       "      <td>...</td>\n",
       "      <td>...</td>\n",
       "      <td>...</td>\n",
       "      <td>...</td>\n",
       "      <td>...</td>\n",
       "      <td>...</td>\n",
       "      <td>...</td>\n",
       "    </tr>\n",
       "    <tr>\n",
       "      <th>463115</th>\n",
       "      <td>e $150,000-350,000</td>\n",
       "      <td>11416.0</td>\n",
       "      <td>236115.0</td>\n",
       "      <td>OZONE PARK</td>\n",
       "      <td>Corporation</td>\n",
       "      <td>Unanswered</td>\n",
       "      <td>Unanswered</td>\n",
       "      <td>Valley National Bank</td>\n",
       "      <td>NY-07</td>\n",
       "    </tr>\n",
       "    <tr>\n",
       "      <th>463150</th>\n",
       "      <td>e $150,000-350,000</td>\n",
       "      <td>11231.0</td>\n",
       "      <td>425120.0</td>\n",
       "      <td>Brooklyn</td>\n",
       "      <td>Corporation</td>\n",
       "      <td>Unanswered</td>\n",
       "      <td>Unanswered</td>\n",
       "      <td>First Republic Bank</td>\n",
       "      <td>NY-07</td>\n",
       "    </tr>\n",
       "    <tr>\n",
       "      <th>463155</th>\n",
       "      <td>e $150,000-350,000</td>\n",
       "      <td>11201.0</td>\n",
       "      <td>236115.0</td>\n",
       "      <td>brooklyn</td>\n",
       "      <td>Limited  Liability Company(LLC)</td>\n",
       "      <td>Unanswered</td>\n",
       "      <td>Unanswered</td>\n",
       "      <td>Cross River Bank</td>\n",
       "      <td>NY-07</td>\n",
       "    </tr>\n",
       "    <tr>\n",
       "      <th>463191</th>\n",
       "      <td>e $150,000-350,000</td>\n",
       "      <td>11232.0</td>\n",
       "      <td>238220.0</td>\n",
       "      <td>Brooklyn</td>\n",
       "      <td>Corporation</td>\n",
       "      <td>Unanswered</td>\n",
       "      <td>Female Owned</td>\n",
       "      <td>Manufacturers and Traders Trust Company</td>\n",
       "      <td>NY-07</td>\n",
       "    </tr>\n",
       "    <tr>\n",
       "      <th>463203</th>\n",
       "      <td>e $150,000-350,000</td>\n",
       "      <td>11220.0</td>\n",
       "      <td>453998.0</td>\n",
       "      <td>BROOKLYN</td>\n",
       "      <td>Corporation</td>\n",
       "      <td>Unanswered</td>\n",
       "      <td>Unanswered</td>\n",
       "      <td>Citibank, N.A.</td>\n",
       "      <td>NY-07</td>\n",
       "    </tr>\n",
       "  </tbody>\n",
       "</table>\n",
       "<p>185629 rows × 9 columns</p>\n",
       "</div>"
      ],
      "text/plain": [
       "                LoanAmount      Zip  NAICSCode        City  \\\n",
       "1                   149990  11357.0   621210.0  WHITESTONE   \n",
       "13                  149938  11753.0   721110.0     Jericho   \n",
       "25                  149900  11021.0   541211.0  Great Neck   \n",
       "34                  149872  11714.0   999990.0    BETHPAGE   \n",
       "71                  149700  11023.0   813110.0  Great Neck   \n",
       "...                    ...      ...        ...         ...   \n",
       "463115  e $150,000-350,000  11416.0   236115.0  OZONE PARK   \n",
       "463150  e $150,000-350,000  11231.0   425120.0    Brooklyn   \n",
       "463155  e $150,000-350,000  11201.0   236115.0    brooklyn   \n",
       "463191  e $150,000-350,000  11232.0   238220.0    Brooklyn   \n",
       "463203  e $150,000-350,000  11220.0   453998.0    BROOKLYN   \n",
       "\n",
       "                           BusinessType RaceEthnicity        Gender  \\\n",
       "1                           Corporation    Unanswered    Male Owned   \n",
       "13      Limited  Liability Company(LLC)         Asian    Male Owned   \n",
       "25      Limited  Liability Company(LLC)    Unanswered    Unanswered   \n",
       "34      Limited  Liability Company(LLC)    Unanswered    Unanswered   \n",
       "71             Professional Association    Unanswered    Unanswered   \n",
       "...                                 ...           ...           ...   \n",
       "463115                      Corporation    Unanswered    Unanswered   \n",
       "463150                      Corporation    Unanswered    Unanswered   \n",
       "463155  Limited  Liability Company(LLC)    Unanswered    Unanswered   \n",
       "463191                      Corporation    Unanswered  Female Owned   \n",
       "463203                      Corporation    Unanswered    Unanswered   \n",
       "\n",
       "                                           Lender     CD  \n",
       "1       JPMorgan Chase Bank, National Association  NY-03  \n",
       "13        KEB Hana Bank USA, National Association  NY-03  \n",
       "25                         Sterling National Bank  NY-03  \n",
       "34      JPMorgan Chase Bank, National Association  NY-03  \n",
       "71                         Sterling National Bank  NY-03  \n",
       "...                                           ...    ...  \n",
       "463115                       Valley National Bank  NY-07  \n",
       "463150                        First Republic Bank  NY-07  \n",
       "463155                           Cross River Bank  NY-07  \n",
       "463191    Manufacturers and Traders Trust Company  NY-07  \n",
       "463203                             Citibank, N.A.  NY-07  \n",
       "\n",
       "[185629 rows x 9 columns]"
      ]
     },
     "execution_count": 20,
     "metadata": {},
     "output_type": "execute_result"
    }
   ],
   "source": [
    "df_JoinedFinal = pd.concat([df_Joined1,df_Joined3,df_Joined4,df_Joined5,df_Joined6,df_Joined7,df_Joined8,df_Joined9,df_Joined10,df_Joined11,df_Joined12, df_Joined13, df_Joined15])\n",
    "df_JoinedFinal"
   ]
  },
  {
   "cell_type": "code",
   "execution_count": 21,
   "metadata": {},
   "outputs": [],
   "source": [
    "df_JoinedFinal.to_csv('PPP_Firstdraw.csv', index=False)"
   ]
  },
  {
   "cell_type": "code",
   "execution_count": null,
   "metadata": {},
   "outputs": [],
   "source": []
  },
  {
   "cell_type": "markdown",
   "metadata": {},
   "source": [
    "### Adding a column for maximum possible loan amount"
   ]
  },
  {
   "cell_type": "code",
   "execution_count": 22,
   "metadata": {},
   "outputs": [],
   "source": [
    "df_JoinedFinal['Max_LoanAmount'] = df_JoinedFinal['LoanAmount']"
   ]
  },
  {
   "cell_type": "code",
   "execution_count": 23,
   "metadata": {},
   "outputs": [],
   "source": [
    "df_JoinedFinal = df_JoinedFinal[['LoanAmount', 'Max_LoanAmount', 'Zip', 'NAICSCode', 'City', 'BusinessType', 'RaceEthnicity', 'Gender', 'Lender', 'CD']]"
   ]
  },
  {
   "cell_type": "code",
   "execution_count": null,
   "metadata": {},
   "outputs": [],
   "source": []
  },
  {
   "cell_type": "markdown",
   "metadata": {},
   "source": [
    "# Cleaning min. and max. approved loan"
   ]
  },
  {
   "cell_type": "markdown",
   "metadata": {},
   "source": [
    "### replacing minimum amount with numbers"
   ]
  },
  {
   "cell_type": "code",
   "execution_count": 24,
   "metadata": {},
   "outputs": [],
   "source": [
    "df_JoinedFinal = df_JoinedFinal.rename(columns={\"LoanAmount\": \"Min_LoanAmount\"})\n",
    "\n",
    "df_JoinedFinal['Min_LoanAmount'] = df_JoinedFinal['Min_LoanAmount'].replace('a $5-10 million', 5000000)\n",
    "df_JoinedFinal['Min_LoanAmount'] = df_JoinedFinal['Min_LoanAmount'].replace('b $2-5 million', 2000000)\n",
    "df_JoinedFinal['Min_LoanAmount'] = df_JoinedFinal['Min_LoanAmount'].replace('c $1-2 million', 1000000)\n",
    "df_JoinedFinal['Min_LoanAmount'] = df_JoinedFinal['Min_LoanAmount'].replace('d $350,000-1 million', 350000)\n",
    "df_JoinedFinal['Min_LoanAmount'] = df_JoinedFinal['Min_LoanAmount'].replace('e $150,000-350,000', 150000)"
   ]
  },
  {
   "cell_type": "code",
   "execution_count": null,
   "metadata": {},
   "outputs": [],
   "source": []
  },
  {
   "cell_type": "markdown",
   "metadata": {},
   "source": [
    "### replacing maximum amount with numbers"
   ]
  },
  {
   "cell_type": "code",
   "execution_count": 25,
   "metadata": {},
   "outputs": [],
   "source": [
    "df_JoinedFinal['Max_LoanAmount'] = df_JoinedFinal['Max_LoanAmount'].replace('a $5-10 million', 10000000)\n",
    "df_JoinedFinal['Max_LoanAmount'] = df_JoinedFinal['Max_LoanAmount'].replace('b $2-5 million', 5000000)\n",
    "df_JoinedFinal['Max_LoanAmount'] = df_JoinedFinal['Max_LoanAmount'].replace('c $1-2 million', 2000000)\n",
    "df_JoinedFinal['Max_LoanAmount'] = df_JoinedFinal['Max_LoanAmount'].replace('d $350,000-1 million', 1000000)\n",
    "df_JoinedFinal['Max_LoanAmount'] = df_JoinedFinal['Max_LoanAmount'].replace('e $150,000-350,000', 350000)"
   ]
  },
  {
   "cell_type": "code",
   "execution_count": null,
   "metadata": {},
   "outputs": [],
   "source": []
  },
  {
   "cell_type": "markdown",
   "metadata": {},
   "source": [
    "## Analyzing df_MinLoanAmount"
   ]
  },
  {
   "cell_type": "code",
   "execution_count": 26,
   "metadata": {},
   "outputs": [
    {
     "data": {
      "text/plain": [
       "(185629, 10)"
      ]
     },
     "execution_count": 26,
     "metadata": {},
     "output_type": "execute_result"
    }
   ],
   "source": [
    "df_JoinedFinal.shape"
   ]
  },
  {
   "cell_type": "code",
   "execution_count": 27,
   "metadata": {},
   "outputs": [
    {
     "data": {
      "text/html": [
       "<div>\n",
       "<style scoped>\n",
       "    .dataframe tbody tr th:only-of-type {\n",
       "        vertical-align: middle;\n",
       "    }\n",
       "\n",
       "    .dataframe tbody tr th {\n",
       "        vertical-align: top;\n",
       "    }\n",
       "\n",
       "    .dataframe thead th {\n",
       "        text-align: right;\n",
       "    }\n",
       "</style>\n",
       "<table border=\"1\" class=\"dataframe\">\n",
       "  <thead>\n",
       "    <tr style=\"text-align: right;\">\n",
       "      <th></th>\n",
       "      <th>Min_LoanAmount</th>\n",
       "      <th>Max_LoanAmount</th>\n",
       "      <th>Zip</th>\n",
       "      <th>NAICSCode</th>\n",
       "      <th>City</th>\n",
       "      <th>BusinessType</th>\n",
       "      <th>RaceEthnicity</th>\n",
       "      <th>Gender</th>\n",
       "      <th>Lender</th>\n",
       "      <th>CD</th>\n",
       "    </tr>\n",
       "  </thead>\n",
       "  <tbody>\n",
       "    <tr>\n",
       "      <th>1</th>\n",
       "      <td>149990.00</td>\n",
       "      <td>149990.00</td>\n",
       "      <td>11357.0</td>\n",
       "      <td>621210.0</td>\n",
       "      <td>WHITESTONE</td>\n",
       "      <td>Corporation</td>\n",
       "      <td>Unanswered</td>\n",
       "      <td>Male Owned</td>\n",
       "      <td>JPMorgan Chase Bank, National Association</td>\n",
       "      <td>NY-03</td>\n",
       "    </tr>\n",
       "    <tr>\n",
       "      <th>13</th>\n",
       "      <td>149938.15</td>\n",
       "      <td>149938.15</td>\n",
       "      <td>11753.0</td>\n",
       "      <td>721110.0</td>\n",
       "      <td>Jericho</td>\n",
       "      <td>Limited  Liability Company(LLC)</td>\n",
       "      <td>Asian</td>\n",
       "      <td>Male Owned</td>\n",
       "      <td>KEB Hana Bank USA, National Association</td>\n",
       "      <td>NY-03</td>\n",
       "    </tr>\n",
       "  </tbody>\n",
       "</table>\n",
       "</div>"
      ],
      "text/plain": [
       "    Min_LoanAmount  Max_LoanAmount      Zip  NAICSCode        City  \\\n",
       "1        149990.00       149990.00  11357.0   621210.0  WHITESTONE   \n",
       "13       149938.15       149938.15  11753.0   721110.0     Jericho   \n",
       "\n",
       "                       BusinessType RaceEthnicity      Gender  \\\n",
       "1                       Corporation    Unanswered  Male Owned   \n",
       "13  Limited  Liability Company(LLC)         Asian  Male Owned   \n",
       "\n",
       "                                       Lender     CD  \n",
       "1   JPMorgan Chase Bank, National Association  NY-03  \n",
       "13    KEB Hana Bank USA, National Association  NY-03  "
      ]
     },
     "execution_count": 27,
     "metadata": {},
     "output_type": "execute_result"
    }
   ],
   "source": [
    "df_JoinedFinal.head(2)"
   ]
  },
  {
   "cell_type": "code",
   "execution_count": 28,
   "metadata": {},
   "outputs": [
    {
     "data": {
      "text/plain": [
       "NaN         10034\n",
       "722511.0     6655\n",
       "621111.0     5726\n",
       "541110.0     5360\n",
       "999990.0     4791\n",
       "812990.0     4361\n",
       "531210.0     3745\n",
       "Name: NAICSCode, dtype: int64"
      ]
     },
     "execution_count": 28,
     "metadata": {},
     "output_type": "execute_result"
    }
   ],
   "source": [
    "df_JoinedFinal['NAICSCode'].value_counts(dropna=False).head(7)\n",
    "# 722511 - Restaurant industry\n",
    "# 621111 - Doctor's offices\n",
    "# 541110 - Law firms\n",
    "# 999990 - Unclassified Establishments\n",
    "# 812990 - personal services (X include pet care services, laundry etc)\n",
    "# 531210 - Offices of real estate agents and brokers"
   ]
  },
  {
   "cell_type": "code",
   "execution_count": 29,
   "metadata": {},
   "outputs": [
    {
     "data": {
      "text/html": [
       "<div>\n",
       "<style scoped>\n",
       "    .dataframe tbody tr th:only-of-type {\n",
       "        vertical-align: middle;\n",
       "    }\n",
       "\n",
       "    .dataframe tbody tr th {\n",
       "        vertical-align: top;\n",
       "    }\n",
       "\n",
       "    .dataframe thead th {\n",
       "        text-align: right;\n",
       "    }\n",
       "</style>\n",
       "<table border=\"1\" class=\"dataframe\">\n",
       "  <thead>\n",
       "    <tr style=\"text-align: right;\">\n",
       "      <th></th>\n",
       "      <th>Min_LoanAmount</th>\n",
       "      <th>Max_LoanAmount</th>\n",
       "      <th>Zip</th>\n",
       "      <th>NAICSCode</th>\n",
       "      <th>City</th>\n",
       "      <th>BusinessType</th>\n",
       "      <th>RaceEthnicity</th>\n",
       "      <th>Gender</th>\n",
       "      <th>Lender</th>\n",
       "      <th>CD</th>\n",
       "    </tr>\n",
       "  </thead>\n",
       "  <tbody>\n",
       "    <tr>\n",
       "      <th>15975</th>\n",
       "      <td>107210.0</td>\n",
       "      <td>107210.0</td>\n",
       "      <td>11753.0</td>\n",
       "      <td>621610.0</td>\n",
       "      <td>Jericho</td>\n",
       "      <td>Limited  Liability Company(LLC)</td>\n",
       "      <td>Unanswered</td>\n",
       "      <td>Unanswered</td>\n",
       "      <td>WebBank</td>\n",
       "      <td>NY-03</td>\n",
       "    </tr>\n",
       "    <tr>\n",
       "      <th>19074</th>\n",
       "      <td>101225.0</td>\n",
       "      <td>101225.0</td>\n",
       "      <td>11023.0</td>\n",
       "      <td>621610.0</td>\n",
       "      <td>GREAT NECK</td>\n",
       "      <td>Subchapter S Corporation</td>\n",
       "      <td>Unanswered</td>\n",
       "      <td>Unanswered</td>\n",
       "      <td>JPMorgan Chase Bank, National Association</td>\n",
       "      <td>NY-03</td>\n",
       "    </tr>\n",
       "    <tr>\n",
       "      <th>41763</th>\n",
       "      <td>70000.0</td>\n",
       "      <td>70000.0</td>\n",
       "      <td>11021.0</td>\n",
       "      <td>621610.0</td>\n",
       "      <td>GREAT NECK</td>\n",
       "      <td>Limited  Liability Company(LLC)</td>\n",
       "      <td>Unanswered</td>\n",
       "      <td>Unanswered</td>\n",
       "      <td>JPMorgan Chase Bank, National Association</td>\n",
       "      <td>NY-03</td>\n",
       "    </tr>\n",
       "    <tr>\n",
       "      <th>109430</th>\n",
       "      <td>29166.0</td>\n",
       "      <td>29166.0</td>\n",
       "      <td>11791.0</td>\n",
       "      <td>621610.0</td>\n",
       "      <td>Jackson Heights</td>\n",
       "      <td>Limited  Liability Company(LLC)</td>\n",
       "      <td>Unanswered</td>\n",
       "      <td>Unanswered</td>\n",
       "      <td>Kabbage, Inc.</td>\n",
       "      <td>NY-03</td>\n",
       "    </tr>\n",
       "    <tr>\n",
       "      <th>118989</th>\n",
       "      <td>25862.0</td>\n",
       "      <td>25862.0</td>\n",
       "      <td>11023.0</td>\n",
       "      <td>621610.0</td>\n",
       "      <td>GREAT NECK</td>\n",
       "      <td>Subchapter S Corporation</td>\n",
       "      <td>Unanswered</td>\n",
       "      <td>Unanswered</td>\n",
       "      <td>JPMorgan Chase Bank, National Association</td>\n",
       "      <td>NY-03</td>\n",
       "    </tr>\n",
       "    <tr>\n",
       "      <th>...</th>\n",
       "      <td>...</td>\n",
       "      <td>...</td>\n",
       "      <td>...</td>\n",
       "      <td>...</td>\n",
       "      <td>...</td>\n",
       "      <td>...</td>\n",
       "      <td>...</td>\n",
       "      <td>...</td>\n",
       "      <td>...</td>\n",
       "      <td>...</td>\n",
       "    </tr>\n",
       "    <tr>\n",
       "      <th>433169</th>\n",
       "      <td>350000.0</td>\n",
       "      <td>1000000.0</td>\n",
       "      <td>11220.0</td>\n",
       "      <td>621610.0</td>\n",
       "      <td>BROOKLYN</td>\n",
       "      <td>Limited  Liability Company(LLC)</td>\n",
       "      <td>Unanswered</td>\n",
       "      <td>Unanswered</td>\n",
       "      <td>Citibank, N.A.</td>\n",
       "      <td>NY-07</td>\n",
       "    </tr>\n",
       "    <tr>\n",
       "      <th>433170</th>\n",
       "      <td>350000.0</td>\n",
       "      <td>1000000.0</td>\n",
       "      <td>11220.0</td>\n",
       "      <td>621610.0</td>\n",
       "      <td>BROOKLYN</td>\n",
       "      <td>Corporation</td>\n",
       "      <td>Unanswered</td>\n",
       "      <td>Unanswered</td>\n",
       "      <td>Citibank, N.A.</td>\n",
       "      <td>NY-07</td>\n",
       "    </tr>\n",
       "    <tr>\n",
       "      <th>445194</th>\n",
       "      <td>150000.0</td>\n",
       "      <td>350000.0</td>\n",
       "      <td>11220.0</td>\n",
       "      <td>621610.0</td>\n",
       "      <td>BROOKLYN</td>\n",
       "      <td>Corporation</td>\n",
       "      <td>Unanswered</td>\n",
       "      <td>Unanswered</td>\n",
       "      <td>Citibank, N.A.</td>\n",
       "      <td>NY-07</td>\n",
       "    </tr>\n",
       "    <tr>\n",
       "      <th>448591</th>\n",
       "      <td>150000.0</td>\n",
       "      <td>350000.0</td>\n",
       "      <td>11220.0</td>\n",
       "      <td>621610.0</td>\n",
       "      <td>BROOKLYN</td>\n",
       "      <td>Non-Profit Organization</td>\n",
       "      <td>Unanswered</td>\n",
       "      <td>Unanswered</td>\n",
       "      <td>TD Bank, National Association</td>\n",
       "      <td>NY-07</td>\n",
       "    </tr>\n",
       "    <tr>\n",
       "      <th>451837</th>\n",
       "      <td>150000.0</td>\n",
       "      <td>350000.0</td>\n",
       "      <td>11206.0</td>\n",
       "      <td>621610.0</td>\n",
       "      <td>BROOKLYN</td>\n",
       "      <td>Subchapter S Corporation</td>\n",
       "      <td>Unanswered</td>\n",
       "      <td>Unanswered</td>\n",
       "      <td>JPMorgan Chase Bank, National Association</td>\n",
       "      <td>NY-07</td>\n",
       "    </tr>\n",
       "  </tbody>\n",
       "</table>\n",
       "<p>561 rows × 10 columns</p>\n",
       "</div>"
      ],
      "text/plain": [
       "        Min_LoanAmount  Max_LoanAmount      Zip  NAICSCode             City  \\\n",
       "15975         107210.0        107210.0  11753.0   621610.0          Jericho   \n",
       "19074         101225.0        101225.0  11023.0   621610.0       GREAT NECK   \n",
       "41763          70000.0         70000.0  11021.0   621610.0       GREAT NECK   \n",
       "109430         29166.0         29166.0  11791.0   621610.0  Jackson Heights   \n",
       "118989         25862.0         25862.0  11023.0   621610.0       GREAT NECK   \n",
       "...                ...             ...      ...        ...              ...   \n",
       "433169        350000.0       1000000.0  11220.0   621610.0         BROOKLYN   \n",
       "433170        350000.0       1000000.0  11220.0   621610.0         BROOKLYN   \n",
       "445194        150000.0        350000.0  11220.0   621610.0         BROOKLYN   \n",
       "448591        150000.0        350000.0  11220.0   621610.0         BROOKLYN   \n",
       "451837        150000.0        350000.0  11206.0   621610.0         BROOKLYN   \n",
       "\n",
       "                           BusinessType RaceEthnicity      Gender  \\\n",
       "15975   Limited  Liability Company(LLC)    Unanswered  Unanswered   \n",
       "19074          Subchapter S Corporation    Unanswered  Unanswered   \n",
       "41763   Limited  Liability Company(LLC)    Unanswered  Unanswered   \n",
       "109430  Limited  Liability Company(LLC)    Unanswered  Unanswered   \n",
       "118989         Subchapter S Corporation    Unanswered  Unanswered   \n",
       "...                                 ...           ...         ...   \n",
       "433169  Limited  Liability Company(LLC)    Unanswered  Unanswered   \n",
       "433170                      Corporation    Unanswered  Unanswered   \n",
       "445194                      Corporation    Unanswered  Unanswered   \n",
       "448591          Non-Profit Organization    Unanswered  Unanswered   \n",
       "451837         Subchapter S Corporation    Unanswered  Unanswered   \n",
       "\n",
       "                                           Lender     CD  \n",
       "15975                                     WebBank  NY-03  \n",
       "19074   JPMorgan Chase Bank, National Association  NY-03  \n",
       "41763   JPMorgan Chase Bank, National Association  NY-03  \n",
       "109430                              Kabbage, Inc.  NY-03  \n",
       "118989  JPMorgan Chase Bank, National Association  NY-03  \n",
       "...                                           ...    ...  \n",
       "433169                             Citibank, N.A.  NY-07  \n",
       "433170                             Citibank, N.A.  NY-07  \n",
       "445194                             Citibank, N.A.  NY-07  \n",
       "448591              TD Bank, National Association  NY-07  \n",
       "451837  JPMorgan Chase Bank, National Association  NY-07  \n",
       "\n",
       "[561 rows x 10 columns]"
      ]
     },
     "execution_count": 29,
     "metadata": {},
     "output_type": "execute_result"
    }
   ],
   "source": [
    "df_JoinedFinal[df_JoinedFinal.NAICSCode == 621610]"
   ]
  },
  {
   "cell_type": "code",
   "execution_count": 30,
   "metadata": {},
   "outputs": [],
   "source": [
    "# mode of 722511\n",
    "\n",
    "restaurant = df_JoinedFinal[df_JoinedFinal.NAICSCode == 722511.0]"
   ]
  },
  {
   "cell_type": "code",
   "execution_count": 31,
   "metadata": {},
   "outputs": [
    {
     "data": {
      "text/plain": [
       "0    150000.0\n",
       "dtype: float64"
      ]
     },
     "execution_count": 31,
     "metadata": {},
     "output_type": "execute_result"
    }
   ],
   "source": [
    "restaurant.Min_LoanAmount.mode()"
   ]
  },
  {
   "cell_type": "code",
   "execution_count": 32,
   "metadata": {},
   "outputs": [
    {
     "data": {
      "text/plain": [
       "0    350000.0\n",
       "dtype: float64"
      ]
     },
     "execution_count": 32,
     "metadata": {},
     "output_type": "execute_result"
    }
   ],
   "source": [
    "restaurant.Max_LoanAmount.mode()"
   ]
  },
  {
   "cell_type": "code",
   "execution_count": 33,
   "metadata": {},
   "outputs": [],
   "source": [
    "# mean of 722511"
   ]
  },
  {
   "cell_type": "code",
   "execution_count": 34,
   "metadata": {},
   "outputs": [
    {
     "data": {
      "text/plain": [
       "113865.16796694214"
      ]
     },
     "execution_count": 34,
     "metadata": {},
     "output_type": "execute_result"
    }
   ],
   "source": [
    "restaurant.Min_LoanAmount.mean()"
   ]
  },
  {
   "cell_type": "code",
   "execution_count": 35,
   "metadata": {},
   "outputs": [
    {
     "data": {
      "text/plain": [
       "230807.31672727273"
      ]
     },
     "execution_count": 35,
     "metadata": {},
     "output_type": "execute_result"
    }
   ],
   "source": [
    "restaurant.Max_LoanAmount.mean()"
   ]
  },
  {
   "cell_type": "code",
   "execution_count": 36,
   "metadata": {},
   "outputs": [],
   "source": [
    "# total restuarant min loan"
   ]
  },
  {
   "cell_type": "code",
   "execution_count": 37,
   "metadata": {},
   "outputs": [
    {
     "data": {
      "text/plain": [
       "757772692.8199999"
      ]
     },
     "execution_count": 37,
     "metadata": {},
     "output_type": "execute_result"
    }
   ],
   "source": [
    "restaurant.Min_LoanAmount.sum()"
   ]
  },
  {
   "cell_type": "code",
   "execution_count": 38,
   "metadata": {},
   "outputs": [
    {
     "data": {
      "text/plain": [
       "1536022692.82"
      ]
     },
     "execution_count": 38,
     "metadata": {},
     "output_type": "execute_result"
    }
   ],
   "source": [
    "# restaurant sum\n",
    "restaurant.Max_LoanAmount.sum()"
   ]
  },
  {
   "cell_type": "code",
   "execution_count": 39,
   "metadata": {},
   "outputs": [
    {
     "data": {
      "text/html": [
       "<div>\n",
       "<style scoped>\n",
       "    .dataframe tbody tr th:only-of-type {\n",
       "        vertical-align: middle;\n",
       "    }\n",
       "\n",
       "    .dataframe tbody tr th {\n",
       "        vertical-align: top;\n",
       "    }\n",
       "\n",
       "    .dataframe thead th {\n",
       "        text-align: right;\n",
       "    }\n",
       "</style>\n",
       "<table border=\"1\" class=\"dataframe\">\n",
       "  <thead>\n",
       "    <tr style=\"text-align: right;\">\n",
       "      <th></th>\n",
       "      <th>Min_LoanAmount</th>\n",
       "      <th>Max_LoanAmount</th>\n",
       "      <th>Zip</th>\n",
       "      <th>NAICSCode</th>\n",
       "      <th>City</th>\n",
       "      <th>BusinessType</th>\n",
       "      <th>RaceEthnicity</th>\n",
       "      <th>Gender</th>\n",
       "      <th>Lender</th>\n",
       "      <th>CD</th>\n",
       "    </tr>\n",
       "  </thead>\n",
       "  <tbody>\n",
       "    <tr>\n",
       "      <th>418808</th>\n",
       "      <td>1000000.0</td>\n",
       "      <td>2000000.0</td>\n",
       "      <td>11743.0</td>\n",
       "      <td>722511.0</td>\n",
       "      <td>HUNTINGTON</td>\n",
       "      <td>Limited  Liability Company(LLC)</td>\n",
       "      <td>Unanswered</td>\n",
       "      <td>Unanswered</td>\n",
       "      <td>TD Bank, National Association</td>\n",
       "      <td>NY-03</td>\n",
       "    </tr>\n",
       "    <tr>\n",
       "      <th>420814</th>\n",
       "      <td>1000000.0</td>\n",
       "      <td>2000000.0</td>\n",
       "      <td>11797.0</td>\n",
       "      <td>722511.0</td>\n",
       "      <td>WOODBURY</td>\n",
       "      <td>Limited  Liability Company(LLC)</td>\n",
       "      <td>Unanswered</td>\n",
       "      <td>Unanswered</td>\n",
       "      <td>Dime Community Bank</td>\n",
       "      <td>NY-03</td>\n",
       "    </tr>\n",
       "    <tr>\n",
       "      <th>422611</th>\n",
       "      <td>350000.0</td>\n",
       "      <td>1000000.0</td>\n",
       "      <td>11050.0</td>\n",
       "      <td>722511.0</td>\n",
       "      <td>PORT WASHINGTON</td>\n",
       "      <td>Limited  Liability Company(LLC)</td>\n",
       "      <td>Unanswered</td>\n",
       "      <td>Unanswered</td>\n",
       "      <td>TD Bank, National Association</td>\n",
       "      <td>NY-03</td>\n",
       "    </tr>\n",
       "    <tr>\n",
       "      <th>422823</th>\n",
       "      <td>350000.0</td>\n",
       "      <td>1000000.0</td>\n",
       "      <td>11768.0</td>\n",
       "      <td>722511.0</td>\n",
       "      <td>NORTHPORT</td>\n",
       "      <td>Limited  Liability Company(LLC)</td>\n",
       "      <td>Unanswered</td>\n",
       "      <td>Unanswered</td>\n",
       "      <td>The First National Bank of Long Island</td>\n",
       "      <td>NY-03</td>\n",
       "    </tr>\n",
       "    <tr>\n",
       "      <th>423009</th>\n",
       "      <td>350000.0</td>\n",
       "      <td>1000000.0</td>\n",
       "      <td>11753.0</td>\n",
       "      <td>722511.0</td>\n",
       "      <td>Jericho</td>\n",
       "      <td>Subchapter S Corporation</td>\n",
       "      <td>Unanswered</td>\n",
       "      <td>Unanswered</td>\n",
       "      <td>Solera National Bank</td>\n",
       "      <td>NY-03</td>\n",
       "    </tr>\n",
       "    <tr>\n",
       "      <th>...</th>\n",
       "      <td>...</td>\n",
       "      <td>...</td>\n",
       "      <td>...</td>\n",
       "      <td>...</td>\n",
       "      <td>...</td>\n",
       "      <td>...</td>\n",
       "      <td>...</td>\n",
       "      <td>...</td>\n",
       "      <td>...</td>\n",
       "      <td>...</td>\n",
       "    </tr>\n",
       "    <tr>\n",
       "      <th>459680</th>\n",
       "      <td>150000.0</td>\n",
       "      <td>350000.0</td>\n",
       "      <td>11201.0</td>\n",
       "      <td>722511.0</td>\n",
       "      <td>BROOKLYN</td>\n",
       "      <td>Limited  Liability Company(LLC)</td>\n",
       "      <td>Unanswered</td>\n",
       "      <td>Unanswered</td>\n",
       "      <td>Idaho First Bank</td>\n",
       "      <td>NY-07</td>\n",
       "    </tr>\n",
       "    <tr>\n",
       "      <th>459796</th>\n",
       "      <td>150000.0</td>\n",
       "      <td>350000.0</td>\n",
       "      <td>11237.0</td>\n",
       "      <td>722511.0</td>\n",
       "      <td>BROOKLYN</td>\n",
       "      <td>Limited  Liability Company(LLC)</td>\n",
       "      <td>Unanswered</td>\n",
       "      <td>Unanswered</td>\n",
       "      <td>JPMorgan Chase Bank, National Association</td>\n",
       "      <td>NY-07</td>\n",
       "    </tr>\n",
       "    <tr>\n",
       "      <th>461502</th>\n",
       "      <td>150000.0</td>\n",
       "      <td>350000.0</td>\n",
       "      <td>11237.0</td>\n",
       "      <td>722511.0</td>\n",
       "      <td>BROOKLYN</td>\n",
       "      <td>Corporation</td>\n",
       "      <td>White</td>\n",
       "      <td>Male Owned</td>\n",
       "      <td>Brooklyn Cooperative FCU</td>\n",
       "      <td>NY-07</td>\n",
       "    </tr>\n",
       "    <tr>\n",
       "      <th>461939</th>\n",
       "      <td>150000.0</td>\n",
       "      <td>350000.0</td>\n",
       "      <td>11215.0</td>\n",
       "      <td>722511.0</td>\n",
       "      <td>BROOKLYN</td>\n",
       "      <td>Limited  Liability Company(LLC)</td>\n",
       "      <td>Unanswered</td>\n",
       "      <td>Unanswered</td>\n",
       "      <td>JPMorgan Chase Bank, National Association</td>\n",
       "      <td>NY-07</td>\n",
       "    </tr>\n",
       "    <tr>\n",
       "      <th>462082</th>\n",
       "      <td>150000.0</td>\n",
       "      <td>350000.0</td>\n",
       "      <td>11201.0</td>\n",
       "      <td>722511.0</td>\n",
       "      <td>Brooklyn</td>\n",
       "      <td>Corporation</td>\n",
       "      <td>Unanswered</td>\n",
       "      <td>Unanswered</td>\n",
       "      <td>Customers Bank</td>\n",
       "      <td>NY-07</td>\n",
       "    </tr>\n",
       "  </tbody>\n",
       "</table>\n",
       "<p>1719 rows × 10 columns</p>\n",
       "</div>"
      ],
      "text/plain": [
       "        Min_LoanAmount  Max_LoanAmount      Zip  NAICSCode             City  \\\n",
       "418808       1000000.0       2000000.0  11743.0   722511.0       HUNTINGTON   \n",
       "420814       1000000.0       2000000.0  11797.0   722511.0         WOODBURY   \n",
       "422611        350000.0       1000000.0  11050.0   722511.0  PORT WASHINGTON   \n",
       "422823        350000.0       1000000.0  11768.0   722511.0        NORTHPORT   \n",
       "423009        350000.0       1000000.0  11753.0   722511.0          Jericho   \n",
       "...                ...             ...      ...        ...              ...   \n",
       "459680        150000.0        350000.0  11201.0   722511.0         BROOKLYN   \n",
       "459796        150000.0        350000.0  11237.0   722511.0         BROOKLYN   \n",
       "461502        150000.0        350000.0  11237.0   722511.0         BROOKLYN   \n",
       "461939        150000.0        350000.0  11215.0   722511.0         BROOKLYN   \n",
       "462082        150000.0        350000.0  11201.0   722511.0         Brooklyn   \n",
       "\n",
       "                           BusinessType RaceEthnicity      Gender  \\\n",
       "418808  Limited  Liability Company(LLC)    Unanswered  Unanswered   \n",
       "420814  Limited  Liability Company(LLC)    Unanswered  Unanswered   \n",
       "422611  Limited  Liability Company(LLC)    Unanswered  Unanswered   \n",
       "422823  Limited  Liability Company(LLC)    Unanswered  Unanswered   \n",
       "423009         Subchapter S Corporation    Unanswered  Unanswered   \n",
       "...                                 ...           ...         ...   \n",
       "459680  Limited  Liability Company(LLC)    Unanswered  Unanswered   \n",
       "459796  Limited  Liability Company(LLC)    Unanswered  Unanswered   \n",
       "461502                      Corporation         White  Male Owned   \n",
       "461939  Limited  Liability Company(LLC)    Unanswered  Unanswered   \n",
       "462082                      Corporation    Unanswered  Unanswered   \n",
       "\n",
       "                                           Lender     CD  \n",
       "418808              TD Bank, National Association  NY-03  \n",
       "420814                        Dime Community Bank  NY-03  \n",
       "422611              TD Bank, National Association  NY-03  \n",
       "422823     The First National Bank of Long Island  NY-03  \n",
       "423009                       Solera National Bank  NY-03  \n",
       "...                                           ...    ...  \n",
       "459680                           Idaho First Bank  NY-07  \n",
       "459796  JPMorgan Chase Bank, National Association  NY-07  \n",
       "461502                   Brooklyn Cooperative FCU  NY-07  \n",
       "461939  JPMorgan Chase Bank, National Association  NY-07  \n",
       "462082                             Customers Bank  NY-07  \n",
       "\n",
       "[1719 rows x 10 columns]"
      ]
     },
     "execution_count": 39,
     "metadata": {},
     "output_type": "execute_result"
    }
   ],
   "source": [
    "restaurant[restaurant.Min_LoanAmount >149000]\n",
    "# 25.6%"
   ]
  },
  {
   "cell_type": "code",
   "execution_count": 40,
   "metadata": {},
   "outputs": [],
   "source": [
    "#restaurant[restaurant.Max_LoanAmount >149000]"
   ]
  },
  {
   "cell_type": "code",
   "execution_count": null,
   "metadata": {},
   "outputs": [],
   "source": []
  },
  {
   "cell_type": "code",
   "execution_count": null,
   "metadata": {},
   "outputs": [],
   "source": []
  },
  {
   "cell_type": "code",
   "execution_count": 41,
   "metadata": {},
   "outputs": [],
   "source": [
    "# mode of 621111.0 doctor's offices\n",
    "\n",
    "doctors = df_JoinedFinal[df_JoinedFinal.NAICSCode == 621111.0]"
   ]
  },
  {
   "cell_type": "code",
   "execution_count": 42,
   "metadata": {},
   "outputs": [
    {
     "data": {
      "text/plain": [
       "0    150000.0\n",
       "dtype: float64"
      ]
     },
     "execution_count": 42,
     "metadata": {},
     "output_type": "execute_result"
    }
   ],
   "source": [
    "doctors.Min_LoanAmount.mode()"
   ]
  },
  {
   "cell_type": "code",
   "execution_count": 43,
   "metadata": {},
   "outputs": [
    {
     "data": {
      "text/plain": [
       "0    350000.0\n",
       "dtype: float64"
      ]
     },
     "execution_count": 43,
     "metadata": {},
     "output_type": "execute_result"
    }
   ],
   "source": [
    "doctors.Max_LoanAmount.mode()"
   ]
  },
  {
   "cell_type": "code",
   "execution_count": 44,
   "metadata": {},
   "outputs": [],
   "source": [
    "# mean of doctor's offices"
   ]
  },
  {
   "cell_type": "code",
   "execution_count": 45,
   "metadata": {},
   "outputs": [
    {
     "data": {
      "text/plain": [
       "70506.96617883339"
      ]
     },
     "execution_count": 45,
     "metadata": {},
     "output_type": "execute_result"
    }
   ],
   "source": [
    "doctors.Min_LoanAmount.mean()"
   ]
  },
  {
   "cell_type": "code",
   "execution_count": 46,
   "metadata": {},
   "outputs": [
    {
     "data": {
      "text/plain": [
       "118952.65252183023"
      ]
     },
     "execution_count": 46,
     "metadata": {},
     "output_type": "execute_result"
    }
   ],
   "source": [
    "doctors.Max_LoanAmount.mean()"
   ]
  },
  {
   "cell_type": "code",
   "execution_count": 47,
   "metadata": {},
   "outputs": [
    {
     "data": {
      "text/plain": [
       "403722888.34"
      ]
     },
     "execution_count": 47,
     "metadata": {},
     "output_type": "execute_result"
    }
   ],
   "source": [
    "# sum of doctors loan\n",
    "doctors.Min_LoanAmount.sum()"
   ]
  },
  {
   "cell_type": "code",
   "execution_count": 48,
   "metadata": {},
   "outputs": [
    {
     "data": {
      "text/plain": [
       "681122888.3399999"
      ]
     },
     "execution_count": 48,
     "metadata": {},
     "output_type": "execute_result"
    }
   ],
   "source": [
    "doctors.Max_LoanAmount.sum()"
   ]
  },
  {
   "cell_type": "code",
   "execution_count": 49,
   "metadata": {},
   "outputs": [
    {
     "data": {
      "text/html": [
       "<div>\n",
       "<style scoped>\n",
       "    .dataframe tbody tr th:only-of-type {\n",
       "        vertical-align: middle;\n",
       "    }\n",
       "\n",
       "    .dataframe tbody tr th {\n",
       "        vertical-align: top;\n",
       "    }\n",
       "\n",
       "    .dataframe thead th {\n",
       "        text-align: right;\n",
       "    }\n",
       "</style>\n",
       "<table border=\"1\" class=\"dataframe\">\n",
       "  <thead>\n",
       "    <tr style=\"text-align: right;\">\n",
       "      <th></th>\n",
       "      <th>Min_LoanAmount</th>\n",
       "      <th>Max_LoanAmount</th>\n",
       "      <th>Zip</th>\n",
       "      <th>NAICSCode</th>\n",
       "      <th>City</th>\n",
       "      <th>BusinessType</th>\n",
       "      <th>RaceEthnicity</th>\n",
       "      <th>Gender</th>\n",
       "      <th>Lender</th>\n",
       "      <th>CD</th>\n",
       "    </tr>\n",
       "  </thead>\n",
       "  <tbody>\n",
       "    <tr>\n",
       "      <th>416824</th>\n",
       "      <td>2000000.0</td>\n",
       "      <td>5000000.0</td>\n",
       "      <td>11803.0</td>\n",
       "      <td>621111.0</td>\n",
       "      <td>PLAINVIEW</td>\n",
       "      <td>Limited  Liability Company(LLC)</td>\n",
       "      <td>Unanswered</td>\n",
       "      <td>Unanswered</td>\n",
       "      <td>TD Bank, National Association</td>\n",
       "      <td>NY-03</td>\n",
       "    </tr>\n",
       "    <tr>\n",
       "      <th>417157</th>\n",
       "      <td>2000000.0</td>\n",
       "      <td>5000000.0</td>\n",
       "      <td>11803.0</td>\n",
       "      <td>621111.0</td>\n",
       "      <td>PLAINVIEW</td>\n",
       "      <td>Corporation</td>\n",
       "      <td>Unanswered</td>\n",
       "      <td>Unanswered</td>\n",
       "      <td>BNB Bank</td>\n",
       "      <td>NY-03</td>\n",
       "    </tr>\n",
       "    <tr>\n",
       "      <th>421043</th>\n",
       "      <td>1000000.0</td>\n",
       "      <td>2000000.0</td>\n",
       "      <td>11576.0</td>\n",
       "      <td>621111.0</td>\n",
       "      <td>ROSLYN</td>\n",
       "      <td>Subchapter S Corporation</td>\n",
       "      <td>Unanswered</td>\n",
       "      <td>Unanswered</td>\n",
       "      <td>Signature Bank</td>\n",
       "      <td>NY-03</td>\n",
       "    </tr>\n",
       "    <tr>\n",
       "      <th>421189</th>\n",
       "      <td>1000000.0</td>\n",
       "      <td>2000000.0</td>\n",
       "      <td>11021.0</td>\n",
       "      <td>621111.0</td>\n",
       "      <td>Great Neck</td>\n",
       "      <td>Subchapter S Corporation</td>\n",
       "      <td>Unanswered</td>\n",
       "      <td>Unanswered</td>\n",
       "      <td>JPMorgan Chase Bank, National Association</td>\n",
       "      <td>NY-03</td>\n",
       "    </tr>\n",
       "    <tr>\n",
       "      <th>422054</th>\n",
       "      <td>1000000.0</td>\n",
       "      <td>2000000.0</td>\n",
       "      <td>11803.0</td>\n",
       "      <td>621111.0</td>\n",
       "      <td>PLAINVIEW</td>\n",
       "      <td>Partnership</td>\n",
       "      <td>Unanswered</td>\n",
       "      <td>Unanswered</td>\n",
       "      <td>The First National Bank of Long Island</td>\n",
       "      <td>NY-03</td>\n",
       "    </tr>\n",
       "    <tr>\n",
       "      <th>...</th>\n",
       "      <td>...</td>\n",
       "      <td>...</td>\n",
       "      <td>...</td>\n",
       "      <td>...</td>\n",
       "      <td>...</td>\n",
       "      <td>...</td>\n",
       "      <td>...</td>\n",
       "      <td>...</td>\n",
       "      <td>...</td>\n",
       "      <td>...</td>\n",
       "    </tr>\n",
       "    <tr>\n",
       "      <th>454070</th>\n",
       "      <td>150000.0</td>\n",
       "      <td>350000.0</td>\n",
       "      <td>11215.0</td>\n",
       "      <td>621111.0</td>\n",
       "      <td>BROOKLYN</td>\n",
       "      <td>Subchapter S Corporation</td>\n",
       "      <td>Unanswered</td>\n",
       "      <td>Unanswered</td>\n",
       "      <td>JPMorgan Chase Bank, National Association</td>\n",
       "      <td>NY-07</td>\n",
       "    </tr>\n",
       "    <tr>\n",
       "      <th>455253</th>\n",
       "      <td>150000.0</td>\n",
       "      <td>350000.0</td>\n",
       "      <td>11231.0</td>\n",
       "      <td>621111.0</td>\n",
       "      <td>Brooklyn</td>\n",
       "      <td>NaN</td>\n",
       "      <td>Unanswered</td>\n",
       "      <td>Unanswered</td>\n",
       "      <td>Citibank, N.A.</td>\n",
       "      <td>NY-07</td>\n",
       "    </tr>\n",
       "    <tr>\n",
       "      <th>455254</th>\n",
       "      <td>150000.0</td>\n",
       "      <td>350000.0</td>\n",
       "      <td>11231.0</td>\n",
       "      <td>621111.0</td>\n",
       "      <td>BROOKLYN</td>\n",
       "      <td>Limited  Liability Company(LLC)</td>\n",
       "      <td>Unanswered</td>\n",
       "      <td>Unanswered</td>\n",
       "      <td>Citibank, N.A.</td>\n",
       "      <td>NY-07</td>\n",
       "    </tr>\n",
       "    <tr>\n",
       "      <th>458887</th>\n",
       "      <td>150000.0</td>\n",
       "      <td>350000.0</td>\n",
       "      <td>11220.0</td>\n",
       "      <td>621111.0</td>\n",
       "      <td>BROOKLYN</td>\n",
       "      <td>Subchapter S Corporation</td>\n",
       "      <td>Unanswered</td>\n",
       "      <td>Unanswered</td>\n",
       "      <td>JPMorgan Chase Bank, National Association</td>\n",
       "      <td>NY-07</td>\n",
       "    </tr>\n",
       "    <tr>\n",
       "      <th>462703</th>\n",
       "      <td>150000.0</td>\n",
       "      <td>350000.0</td>\n",
       "      <td>11206.0</td>\n",
       "      <td>621111.0</td>\n",
       "      <td>BROOKLYN</td>\n",
       "      <td>Corporation</td>\n",
       "      <td>Unanswered</td>\n",
       "      <td>Unanswered</td>\n",
       "      <td>First Horizon Bank</td>\n",
       "      <td>NY-07</td>\n",
       "    </tr>\n",
       "  </tbody>\n",
       "</table>\n",
       "<p>701 rows × 10 columns</p>\n",
       "</div>"
      ],
      "text/plain": [
       "        Min_LoanAmount  Max_LoanAmount      Zip  NAICSCode        City  \\\n",
       "416824       2000000.0       5000000.0  11803.0   621111.0   PLAINVIEW   \n",
       "417157       2000000.0       5000000.0  11803.0   621111.0   PLAINVIEW   \n",
       "421043       1000000.0       2000000.0  11576.0   621111.0      ROSLYN   \n",
       "421189       1000000.0       2000000.0  11021.0   621111.0  Great Neck   \n",
       "422054       1000000.0       2000000.0  11803.0   621111.0   PLAINVIEW   \n",
       "...                ...             ...      ...        ...         ...   \n",
       "454070        150000.0        350000.0  11215.0   621111.0    BROOKLYN   \n",
       "455253        150000.0        350000.0  11231.0   621111.0    Brooklyn   \n",
       "455254        150000.0        350000.0  11231.0   621111.0    BROOKLYN   \n",
       "458887        150000.0        350000.0  11220.0   621111.0    BROOKLYN   \n",
       "462703        150000.0        350000.0  11206.0   621111.0    BROOKLYN   \n",
       "\n",
       "                           BusinessType RaceEthnicity      Gender  \\\n",
       "416824  Limited  Liability Company(LLC)    Unanswered  Unanswered   \n",
       "417157                      Corporation    Unanswered  Unanswered   \n",
       "421043         Subchapter S Corporation    Unanswered  Unanswered   \n",
       "421189         Subchapter S Corporation    Unanswered  Unanswered   \n",
       "422054                      Partnership    Unanswered  Unanswered   \n",
       "...                                 ...           ...         ...   \n",
       "454070         Subchapter S Corporation    Unanswered  Unanswered   \n",
       "455253                              NaN    Unanswered  Unanswered   \n",
       "455254  Limited  Liability Company(LLC)    Unanswered  Unanswered   \n",
       "458887         Subchapter S Corporation    Unanswered  Unanswered   \n",
       "462703                      Corporation    Unanswered  Unanswered   \n",
       "\n",
       "                                           Lender     CD  \n",
       "416824              TD Bank, National Association  NY-03  \n",
       "417157                                   BNB Bank  NY-03  \n",
       "421043                             Signature Bank  NY-03  \n",
       "421189  JPMorgan Chase Bank, National Association  NY-03  \n",
       "422054     The First National Bank of Long Island  NY-03  \n",
       "...                                           ...    ...  \n",
       "454070  JPMorgan Chase Bank, National Association  NY-07  \n",
       "455253                             Citibank, N.A.  NY-07  \n",
       "455254                             Citibank, N.A.  NY-07  \n",
       "458887  JPMorgan Chase Bank, National Association  NY-07  \n",
       "462703                         First Horizon Bank  NY-07  \n",
       "\n",
       "[701 rows x 10 columns]"
      ]
     },
     "execution_count": 49,
     "metadata": {},
     "output_type": "execute_result"
    }
   ],
   "source": [
    "doctors[doctors.Min_LoanAmount >149000]\n",
    "# 12.3%"
   ]
  },
  {
   "cell_type": "code",
   "execution_count": 50,
   "metadata": {},
   "outputs": [],
   "source": [
    "#doctors[doctors.Max_LoanAmount >149000]"
   ]
  },
  {
   "cell_type": "code",
   "execution_count": null,
   "metadata": {},
   "outputs": [],
   "source": []
  },
  {
   "cell_type": "code",
   "execution_count": 51,
   "metadata": {},
   "outputs": [],
   "source": [
    "# 541110 - Law firms"
   ]
  },
  {
   "cell_type": "code",
   "execution_count": 52,
   "metadata": {},
   "outputs": [],
   "source": [
    "lawfirms = df_JoinedFinal[df_JoinedFinal.NAICSCode == 541110.0]"
   ]
  },
  {
   "cell_type": "code",
   "execution_count": 53,
   "metadata": {},
   "outputs": [
    {
     "data": {
      "text/plain": [
       "0    150000.0\n",
       "dtype: float64"
      ]
     },
     "execution_count": 53,
     "metadata": {},
     "output_type": "execute_result"
    }
   ],
   "source": [
    "lawfirms.Min_LoanAmount.mode()"
   ]
  },
  {
   "cell_type": "code",
   "execution_count": 54,
   "metadata": {},
   "outputs": [
    {
     "data": {
      "text/plain": [
       "0    350000.0\n",
       "dtype: float64"
      ]
     },
     "execution_count": 54,
     "metadata": {},
     "output_type": "execute_result"
    }
   ],
   "source": [
    "lawfirms.Max_LoanAmount.mode()"
   ]
  },
  {
   "cell_type": "code",
   "execution_count": 55,
   "metadata": {},
   "outputs": [
    {
     "data": {
      "text/plain": [
       "97713.98156529851"
      ]
     },
     "execution_count": 55,
     "metadata": {},
     "output_type": "execute_result"
    }
   ],
   "source": [
    "lawfirms.Min_LoanAmount.mean()"
   ]
  },
  {
   "cell_type": "code",
   "execution_count": 56,
   "metadata": {},
   "outputs": [
    {
     "data": {
      "text/plain": [
       "192163.60843097017"
      ]
     },
     "execution_count": 56,
     "metadata": {},
     "output_type": "execute_result"
    }
   ],
   "source": [
    "lawfirms.Max_LoanAmount.mean()"
   ]
  },
  {
   "cell_type": "code",
   "execution_count": 57,
   "metadata": {},
   "outputs": [
    {
     "data": {
      "text/plain": [
       "523746941.19000006"
      ]
     },
     "execution_count": 57,
     "metadata": {},
     "output_type": "execute_result"
    }
   ],
   "source": [
    "lawfirms.Min_LoanAmount.sum()"
   ]
  },
  {
   "cell_type": "code",
   "execution_count": 58,
   "metadata": {},
   "outputs": [
    {
     "data": {
      "text/html": [
       "<div>\n",
       "<style scoped>\n",
       "    .dataframe tbody tr th:only-of-type {\n",
       "        vertical-align: middle;\n",
       "    }\n",
       "\n",
       "    .dataframe tbody tr th {\n",
       "        vertical-align: top;\n",
       "    }\n",
       "\n",
       "    .dataframe thead th {\n",
       "        text-align: right;\n",
       "    }\n",
       "</style>\n",
       "<table border=\"1\" class=\"dataframe\">\n",
       "  <thead>\n",
       "    <tr style=\"text-align: right;\">\n",
       "      <th></th>\n",
       "      <th>Min_LoanAmount</th>\n",
       "      <th>Max_LoanAmount</th>\n",
       "      <th>Zip</th>\n",
       "      <th>NAICSCode</th>\n",
       "      <th>City</th>\n",
       "      <th>BusinessType</th>\n",
       "      <th>RaceEthnicity</th>\n",
       "      <th>Gender</th>\n",
       "      <th>Lender</th>\n",
       "      <th>CD</th>\n",
       "    </tr>\n",
       "  </thead>\n",
       "  <tbody>\n",
       "    <tr>\n",
       "      <th>416637</th>\n",
       "      <td>2000000.0</td>\n",
       "      <td>5000000.0</td>\n",
       "      <td>11042.0</td>\n",
       "      <td>541110.0</td>\n",
       "      <td>LAKE SUCCESS</td>\n",
       "      <td>Limited Liability Partnership</td>\n",
       "      <td>Unanswered</td>\n",
       "      <td>Unanswered</td>\n",
       "      <td>ConnectOne Bank</td>\n",
       "      <td>NY-03</td>\n",
       "    </tr>\n",
       "    <tr>\n",
       "      <th>416666</th>\n",
       "      <td>2000000.0</td>\n",
       "      <td>5000000.0</td>\n",
       "      <td>11507.0</td>\n",
       "      <td>541110.0</td>\n",
       "      <td>ALBERTSON</td>\n",
       "      <td>Partnership</td>\n",
       "      <td>Unanswered</td>\n",
       "      <td>Unanswered</td>\n",
       "      <td>Signature Bank</td>\n",
       "      <td>NY-03</td>\n",
       "    </tr>\n",
       "    <tr>\n",
       "      <th>417313</th>\n",
       "      <td>2000000.0</td>\n",
       "      <td>5000000.0</td>\n",
       "      <td>11021.0</td>\n",
       "      <td>541110.0</td>\n",
       "      <td>Great Neck</td>\n",
       "      <td>Subchapter S Corporation</td>\n",
       "      <td>Unanswered</td>\n",
       "      <td>Unanswered</td>\n",
       "      <td>Citibank, N.A.</td>\n",
       "      <td>NY-03</td>\n",
       "    </tr>\n",
       "    <tr>\n",
       "      <th>417583</th>\n",
       "      <td>2000000.0</td>\n",
       "      <td>5000000.0</td>\n",
       "      <td>11797.0</td>\n",
       "      <td>541110.0</td>\n",
       "      <td>WOODBURY</td>\n",
       "      <td>Limited Liability Partnership</td>\n",
       "      <td>Unanswered</td>\n",
       "      <td>Unanswered</td>\n",
       "      <td>BNB Bank</td>\n",
       "      <td>NY-03</td>\n",
       "    </tr>\n",
       "    <tr>\n",
       "      <th>417780</th>\n",
       "      <td>2000000.0</td>\n",
       "      <td>5000000.0</td>\n",
       "      <td>11797.0</td>\n",
       "      <td>541110.0</td>\n",
       "      <td>WOODBURY</td>\n",
       "      <td>Limited Liability Partnership</td>\n",
       "      <td>Unanswered</td>\n",
       "      <td>Unanswered</td>\n",
       "      <td>TD Bank, National Association</td>\n",
       "      <td>NY-03</td>\n",
       "    </tr>\n",
       "    <tr>\n",
       "      <th>...</th>\n",
       "      <td>...</td>\n",
       "      <td>...</td>\n",
       "      <td>...</td>\n",
       "      <td>...</td>\n",
       "      <td>...</td>\n",
       "      <td>...</td>\n",
       "      <td>...</td>\n",
       "      <td>...</td>\n",
       "      <td>...</td>\n",
       "      <td>...</td>\n",
       "    </tr>\n",
       "    <tr>\n",
       "      <th>450691</th>\n",
       "      <td>150000.0</td>\n",
       "      <td>350000.0</td>\n",
       "      <td>11241.0</td>\n",
       "      <td>541110.0</td>\n",
       "      <td>Brooklyn</td>\n",
       "      <td>Corporation</td>\n",
       "      <td>Unanswered</td>\n",
       "      <td>Unanswered</td>\n",
       "      <td>Cross River Bank</td>\n",
       "      <td>NY-07</td>\n",
       "    </tr>\n",
       "    <tr>\n",
       "      <th>456940</th>\n",
       "      <td>150000.0</td>\n",
       "      <td>350000.0</td>\n",
       "      <td>11242.0</td>\n",
       "      <td>541110.0</td>\n",
       "      <td>BROOKLYN</td>\n",
       "      <td>Corporation</td>\n",
       "      <td>Unanswered</td>\n",
       "      <td>Male Owned</td>\n",
       "      <td>JPMorgan Chase Bank, National Association</td>\n",
       "      <td>NY-07</td>\n",
       "    </tr>\n",
       "    <tr>\n",
       "      <th>458463</th>\n",
       "      <td>150000.0</td>\n",
       "      <td>350000.0</td>\n",
       "      <td>11242.0</td>\n",
       "      <td>541110.0</td>\n",
       "      <td>BROOKLYN</td>\n",
       "      <td>Partnership</td>\n",
       "      <td>Unanswered</td>\n",
       "      <td>Unanswered</td>\n",
       "      <td>Signature Bank</td>\n",
       "      <td>NY-07</td>\n",
       "    </tr>\n",
       "    <tr>\n",
       "      <th>459821</th>\n",
       "      <td>150000.0</td>\n",
       "      <td>350000.0</td>\n",
       "      <td>11206.0</td>\n",
       "      <td>541110.0</td>\n",
       "      <td>BROOKLYN</td>\n",
       "      <td>Corporation</td>\n",
       "      <td>Unanswered</td>\n",
       "      <td>Unanswered</td>\n",
       "      <td>JPMorgan Chase Bank, National Association</td>\n",
       "      <td>NY-07</td>\n",
       "    </tr>\n",
       "    <tr>\n",
       "      <th>462469</th>\n",
       "      <td>150000.0</td>\n",
       "      <td>350000.0</td>\n",
       "      <td>11242.0</td>\n",
       "      <td>541110.0</td>\n",
       "      <td>BROOKLYN</td>\n",
       "      <td>Limited Liability Partnership</td>\n",
       "      <td>Unanswered</td>\n",
       "      <td>Unanswered</td>\n",
       "      <td>Signature Bank</td>\n",
       "      <td>NY-07</td>\n",
       "    </tr>\n",
       "  </tbody>\n",
       "</table>\n",
       "<p>797 rows × 10 columns</p>\n",
       "</div>"
      ],
      "text/plain": [
       "        Min_LoanAmount  Max_LoanAmount      Zip  NAICSCode          City  \\\n",
       "416637       2000000.0       5000000.0  11042.0   541110.0  LAKE SUCCESS   \n",
       "416666       2000000.0       5000000.0  11507.0   541110.0     ALBERTSON   \n",
       "417313       2000000.0       5000000.0  11021.0   541110.0    Great Neck   \n",
       "417583       2000000.0       5000000.0  11797.0   541110.0      WOODBURY   \n",
       "417780       2000000.0       5000000.0  11797.0   541110.0      WOODBURY   \n",
       "...                ...             ...      ...        ...           ...   \n",
       "450691        150000.0        350000.0  11241.0   541110.0      Brooklyn   \n",
       "456940        150000.0        350000.0  11242.0   541110.0      BROOKLYN   \n",
       "458463        150000.0        350000.0  11242.0   541110.0      BROOKLYN   \n",
       "459821        150000.0        350000.0  11206.0   541110.0      BROOKLYN   \n",
       "462469        150000.0        350000.0  11242.0   541110.0      BROOKLYN   \n",
       "\n",
       "                         BusinessType RaceEthnicity      Gender  \\\n",
       "416637  Limited Liability Partnership    Unanswered  Unanswered   \n",
       "416666                    Partnership    Unanswered  Unanswered   \n",
       "417313       Subchapter S Corporation    Unanswered  Unanswered   \n",
       "417583  Limited Liability Partnership    Unanswered  Unanswered   \n",
       "417780  Limited Liability Partnership    Unanswered  Unanswered   \n",
       "...                               ...           ...         ...   \n",
       "450691                    Corporation    Unanswered  Unanswered   \n",
       "456940                    Corporation    Unanswered  Male Owned   \n",
       "458463                    Partnership    Unanswered  Unanswered   \n",
       "459821                    Corporation    Unanswered  Unanswered   \n",
       "462469  Limited Liability Partnership    Unanswered  Unanswered   \n",
       "\n",
       "                                           Lender     CD  \n",
       "416637                            ConnectOne Bank  NY-03  \n",
       "416666                             Signature Bank  NY-03  \n",
       "417313                             Citibank, N.A.  NY-03  \n",
       "417583                                   BNB Bank  NY-03  \n",
       "417780              TD Bank, National Association  NY-03  \n",
       "...                                           ...    ...  \n",
       "450691                           Cross River Bank  NY-07  \n",
       "456940  JPMorgan Chase Bank, National Association  NY-07  \n",
       "458463                             Signature Bank  NY-07  \n",
       "459821  JPMorgan Chase Bank, National Association  NY-07  \n",
       "462469                             Signature Bank  NY-07  \n",
       "\n",
       "[797 rows x 10 columns]"
      ]
     },
     "execution_count": 58,
     "metadata": {},
     "output_type": "execute_result"
    }
   ],
   "source": [
    "lawfirms[lawfirms.Min_LoanAmount >149000]\n",
    "# 14.6 %"
   ]
  },
  {
   "cell_type": "code",
   "execution_count": 59,
   "metadata": {},
   "outputs": [],
   "source": [
    "#lawfirms[lawfirms.Max_LoanAmount >149000]"
   ]
  },
  {
   "cell_type": "code",
   "execution_count": null,
   "metadata": {},
   "outputs": [],
   "source": []
  },
  {
   "cell_type": "code",
   "execution_count": 60,
   "metadata": {},
   "outputs": [],
   "source": [
    "# unknown -- 999990.0 / 5221 businesses"
   ]
  },
  {
   "cell_type": "code",
   "execution_count": 61,
   "metadata": {},
   "outputs": [],
   "source": [
    "unknown = df_JoinedFinal[df_JoinedFinal.NAICSCode == 999990.0]"
   ]
  },
  {
   "cell_type": "code",
   "execution_count": 62,
   "metadata": {},
   "outputs": [
    {
     "data": {
      "text/html": [
       "<div>\n",
       "<style scoped>\n",
       "    .dataframe tbody tr th:only-of-type {\n",
       "        vertical-align: middle;\n",
       "    }\n",
       "\n",
       "    .dataframe tbody tr th {\n",
       "        vertical-align: top;\n",
       "    }\n",
       "\n",
       "    .dataframe thead th {\n",
       "        text-align: right;\n",
       "    }\n",
       "</style>\n",
       "<table border=\"1\" class=\"dataframe\">\n",
       "  <thead>\n",
       "    <tr style=\"text-align: right;\">\n",
       "      <th></th>\n",
       "      <th>Min_LoanAmount</th>\n",
       "      <th>Max_LoanAmount</th>\n",
       "      <th>Zip</th>\n",
       "      <th>NAICSCode</th>\n",
       "      <th>City</th>\n",
       "      <th>BusinessType</th>\n",
       "      <th>RaceEthnicity</th>\n",
       "      <th>Gender</th>\n",
       "      <th>Lender</th>\n",
       "      <th>CD</th>\n",
       "    </tr>\n",
       "  </thead>\n",
       "  <tbody>\n",
       "    <tr>\n",
       "      <th>34</th>\n",
       "      <td>149872.0</td>\n",
       "      <td>149872.0</td>\n",
       "      <td>11714.0</td>\n",
       "      <td>999990.0</td>\n",
       "      <td>BETHPAGE</td>\n",
       "      <td>Limited  Liability Company(LLC)</td>\n",
       "      <td>Unanswered</td>\n",
       "      <td>Unanswered</td>\n",
       "      <td>JPMorgan Chase Bank, National Association</td>\n",
       "      <td>NY-03</td>\n",
       "    </tr>\n",
       "    <tr>\n",
       "      <th>425999</th>\n",
       "      <td>350000.0</td>\n",
       "      <td>1000000.0</td>\n",
       "      <td>11030.0</td>\n",
       "      <td>999990.0</td>\n",
       "      <td>Manhasset</td>\n",
       "      <td>NaN</td>\n",
       "      <td>Unanswered</td>\n",
       "      <td>Unanswered</td>\n",
       "      <td>JPMorgan Chase Bank, National Association</td>\n",
       "      <td>NY-03</td>\n",
       "    </tr>\n",
       "    <tr>\n",
       "      <th>426575</th>\n",
       "      <td>350000.0</td>\n",
       "      <td>1000000.0</td>\n",
       "      <td>11731.0</td>\n",
       "      <td>999990.0</td>\n",
       "      <td>East Northport</td>\n",
       "      <td>Corporation</td>\n",
       "      <td>Unanswered</td>\n",
       "      <td>Male Owned</td>\n",
       "      <td>Bank of America, National Association</td>\n",
       "      <td>NY-03</td>\n",
       "    </tr>\n",
       "    <tr>\n",
       "      <th>431840</th>\n",
       "      <td>350000.0</td>\n",
       "      <td>1000000.0</td>\n",
       "      <td>11801.0</td>\n",
       "      <td>999990.0</td>\n",
       "      <td>Hicksville</td>\n",
       "      <td>Limited  Liability Company(LLC)</td>\n",
       "      <td>Unanswered</td>\n",
       "      <td>Unanswered</td>\n",
       "      <td>JPMorgan Chase Bank, National Association</td>\n",
       "      <td>NY-03</td>\n",
       "    </tr>\n",
       "    <tr>\n",
       "      <th>435731</th>\n",
       "      <td>350000.0</td>\n",
       "      <td>1000000.0</td>\n",
       "      <td>11797.0</td>\n",
       "      <td>999990.0</td>\n",
       "      <td>WOODBURY</td>\n",
       "      <td>Subchapter S Corporation</td>\n",
       "      <td>Unanswered</td>\n",
       "      <td>Female Owned</td>\n",
       "      <td>JPMorgan Chase Bank, National Association</td>\n",
       "      <td>NY-03</td>\n",
       "    </tr>\n",
       "    <tr>\n",
       "      <th>...</th>\n",
       "      <td>...</td>\n",
       "      <td>...</td>\n",
       "      <td>...</td>\n",
       "      <td>...</td>\n",
       "      <td>...</td>\n",
       "      <td>...</td>\n",
       "      <td>...</td>\n",
       "      <td>...</td>\n",
       "      <td>...</td>\n",
       "      <td>...</td>\n",
       "    </tr>\n",
       "    <tr>\n",
       "      <th>454530</th>\n",
       "      <td>150000.0</td>\n",
       "      <td>350000.0</td>\n",
       "      <td>11201.0</td>\n",
       "      <td>999990.0</td>\n",
       "      <td>BROOKLYN</td>\n",
       "      <td>Limited  Liability Company(LLC)</td>\n",
       "      <td>Unanswered</td>\n",
       "      <td>Male Owned</td>\n",
       "      <td>JPMorgan Chase Bank, National Association</td>\n",
       "      <td>NY-07</td>\n",
       "    </tr>\n",
       "    <tr>\n",
       "      <th>457556</th>\n",
       "      <td>150000.0</td>\n",
       "      <td>350000.0</td>\n",
       "      <td>11215.0</td>\n",
       "      <td>999990.0</td>\n",
       "      <td>BROOKLYN</td>\n",
       "      <td>Limited  Liability Company(LLC)</td>\n",
       "      <td>Unanswered</td>\n",
       "      <td>Unanswered</td>\n",
       "      <td>JPMorgan Chase Bank, National Association</td>\n",
       "      <td>NY-07</td>\n",
       "    </tr>\n",
       "    <tr>\n",
       "      <th>457834</th>\n",
       "      <td>150000.0</td>\n",
       "      <td>350000.0</td>\n",
       "      <td>11231.0</td>\n",
       "      <td>999990.0</td>\n",
       "      <td>BROOKLYN</td>\n",
       "      <td>Limited  Liability Company(LLC)</td>\n",
       "      <td>Unanswered</td>\n",
       "      <td>Unanswered</td>\n",
       "      <td>Capital Bank, National Association</td>\n",
       "      <td>NY-07</td>\n",
       "    </tr>\n",
       "    <tr>\n",
       "      <th>462754</th>\n",
       "      <td>150000.0</td>\n",
       "      <td>350000.0</td>\n",
       "      <td>11220.0</td>\n",
       "      <td>999990.0</td>\n",
       "      <td>BROOKLYN</td>\n",
       "      <td>Corporation</td>\n",
       "      <td>Asian</td>\n",
       "      <td>Male Owned</td>\n",
       "      <td>Cathay Bank</td>\n",
       "      <td>NY-07</td>\n",
       "    </tr>\n",
       "    <tr>\n",
       "      <th>463078</th>\n",
       "      <td>150000.0</td>\n",
       "      <td>350000.0</td>\n",
       "      <td>11220.0</td>\n",
       "      <td>999990.0</td>\n",
       "      <td>Brooklyn</td>\n",
       "      <td>Corporation</td>\n",
       "      <td>Unanswered</td>\n",
       "      <td>Unanswered</td>\n",
       "      <td>Celtic Bank Corporation</td>\n",
       "      <td>NY-07</td>\n",
       "    </tr>\n",
       "  </tbody>\n",
       "</table>\n",
       "<p>345 rows × 10 columns</p>\n",
       "</div>"
      ],
      "text/plain": [
       "        Min_LoanAmount  Max_LoanAmount      Zip  NAICSCode            City  \\\n",
       "34            149872.0        149872.0  11714.0   999990.0        BETHPAGE   \n",
       "425999        350000.0       1000000.0  11030.0   999990.0       Manhasset   \n",
       "426575        350000.0       1000000.0  11731.0   999990.0  East Northport   \n",
       "431840        350000.0       1000000.0  11801.0   999990.0      Hicksville   \n",
       "435731        350000.0       1000000.0  11797.0   999990.0        WOODBURY   \n",
       "...                ...             ...      ...        ...             ...   \n",
       "454530        150000.0        350000.0  11201.0   999990.0        BROOKLYN   \n",
       "457556        150000.0        350000.0  11215.0   999990.0        BROOKLYN   \n",
       "457834        150000.0        350000.0  11231.0   999990.0        BROOKLYN   \n",
       "462754        150000.0        350000.0  11220.0   999990.0        BROOKLYN   \n",
       "463078        150000.0        350000.0  11220.0   999990.0        Brooklyn   \n",
       "\n",
       "                           BusinessType RaceEthnicity        Gender  \\\n",
       "34      Limited  Liability Company(LLC)    Unanswered    Unanswered   \n",
       "425999                              NaN    Unanswered    Unanswered   \n",
       "426575                      Corporation    Unanswered    Male Owned   \n",
       "431840  Limited  Liability Company(LLC)    Unanswered    Unanswered   \n",
       "435731         Subchapter S Corporation    Unanswered  Female Owned   \n",
       "...                                 ...           ...           ...   \n",
       "454530  Limited  Liability Company(LLC)    Unanswered    Male Owned   \n",
       "457556  Limited  Liability Company(LLC)    Unanswered    Unanswered   \n",
       "457834  Limited  Liability Company(LLC)    Unanswered    Unanswered   \n",
       "462754                      Corporation         Asian    Male Owned   \n",
       "463078                      Corporation    Unanswered    Unanswered   \n",
       "\n",
       "                                           Lender     CD  \n",
       "34      JPMorgan Chase Bank, National Association  NY-03  \n",
       "425999  JPMorgan Chase Bank, National Association  NY-03  \n",
       "426575      Bank of America, National Association  NY-03  \n",
       "431840  JPMorgan Chase Bank, National Association  NY-03  \n",
       "435731  JPMorgan Chase Bank, National Association  NY-03  \n",
       "...                                           ...    ...  \n",
       "454530  JPMorgan Chase Bank, National Association  NY-07  \n",
       "457556  JPMorgan Chase Bank, National Association  NY-07  \n",
       "457834         Capital Bank, National Association  NY-07  \n",
       "462754                                Cathay Bank  NY-07  \n",
       "463078                    Celtic Bank Corporation  NY-07  \n",
       "\n",
       "[345 rows x 10 columns]"
      ]
     },
     "execution_count": 62,
     "metadata": {},
     "output_type": "execute_result"
    }
   ],
   "source": [
    "unknown[unknown.Min_LoanAmount >149000]\n",
    "#7%"
   ]
  },
  {
   "cell_type": "code",
   "execution_count": null,
   "metadata": {},
   "outputs": [],
   "source": []
  },
  {
   "cell_type": "code",
   "execution_count": 63,
   "metadata": {},
   "outputs": [
    {
     "data": {
      "text/plain": [
       "Unanswered                          176216\n",
       "White                                 4479\n",
       "Asian                                 3042\n",
       "Hispanic                              1384\n",
       "Black or African American              475\n",
       "American Indian or Alaska Native        30\n",
       "Puerto Rican                             3\n",
       "Name: RaceEthnicity, dtype: int64"
      ]
     },
     "execution_count": 63,
     "metadata": {},
     "output_type": "execute_result"
    }
   ],
   "source": [
    "df_JoinedFinal['RaceEthnicity'].value_counts(dropna=False)\n",
    "# number of Hispanic + Black/African Americans who received PPP checks"
   ]
  },
  {
   "cell_type": "code",
   "execution_count": 64,
   "metadata": {},
   "outputs": [
    {
     "data": {
      "text/html": [
       "<div>\n",
       "<style scoped>\n",
       "    .dataframe tbody tr th:only-of-type {\n",
       "        vertical-align: middle;\n",
       "    }\n",
       "\n",
       "    .dataframe tbody tr th {\n",
       "        vertical-align: top;\n",
       "    }\n",
       "\n",
       "    .dataframe thead th {\n",
       "        text-align: right;\n",
       "    }\n",
       "</style>\n",
       "<table border=\"1\" class=\"dataframe\">\n",
       "  <thead>\n",
       "    <tr style=\"text-align: right;\">\n",
       "      <th></th>\n",
       "      <th>Min_LoanAmount</th>\n",
       "      <th>Max_LoanAmount</th>\n",
       "      <th>Zip</th>\n",
       "      <th>NAICSCode</th>\n",
       "      <th>City</th>\n",
       "      <th>BusinessType</th>\n",
       "      <th>RaceEthnicity</th>\n",
       "      <th>Gender</th>\n",
       "      <th>Lender</th>\n",
       "      <th>CD</th>\n",
       "    </tr>\n",
       "  </thead>\n",
       "  <tbody>\n",
       "    <tr>\n",
       "      <th>810</th>\n",
       "      <td>147055.2</td>\n",
       "      <td>147055.2</td>\n",
       "      <td>11050.0</td>\n",
       "      <td>541940.0</td>\n",
       "      <td>PORT WASHINGTON</td>\n",
       "      <td>Limited  Liability Company(LLC)</td>\n",
       "      <td>White</td>\n",
       "      <td>Male Owned</td>\n",
       "      <td>Dime Community Bank</td>\n",
       "      <td>NY-03</td>\n",
       "    </tr>\n",
       "    <tr>\n",
       "      <th>896</th>\n",
       "      <td>146741.9</td>\n",
       "      <td>146741.9</td>\n",
       "      <td>11042.0</td>\n",
       "      <td>713940.0</td>\n",
       "      <td>New Hyde Park</td>\n",
       "      <td>Subchapter S Corporation</td>\n",
       "      <td>White</td>\n",
       "      <td>Female Owned</td>\n",
       "      <td>Dime Community Bank</td>\n",
       "      <td>NY-03</td>\n",
       "    </tr>\n",
       "  </tbody>\n",
       "</table>\n",
       "</div>"
      ],
      "text/plain": [
       "     Min_LoanAmount  Max_LoanAmount      Zip  NAICSCode             City  \\\n",
       "810        147055.2        147055.2  11050.0   541940.0  PORT WASHINGTON   \n",
       "896        146741.9        146741.9  11042.0   713940.0    New Hyde Park   \n",
       "\n",
       "                        BusinessType RaceEthnicity        Gender  \\\n",
       "810  Limited  Liability Company(LLC)         White    Male Owned   \n",
       "896         Subchapter S Corporation         White  Female Owned   \n",
       "\n",
       "                  Lender     CD  \n",
       "810  Dime Community Bank  NY-03  \n",
       "896  Dime Community Bank  NY-03  "
      ]
     },
     "execution_count": 64,
     "metadata": {},
     "output_type": "execute_result"
    }
   ],
   "source": [
    "White_Lenders = df_JoinedFinal[df_JoinedFinal.RaceEthnicity == \"White\"]\n",
    "White_Lenders.head(2)"
   ]
  },
  {
   "cell_type": "code",
   "execution_count": 65,
   "metadata": {},
   "outputs": [
    {
     "data": {
      "text/plain": [
       "City National Bank                           696\n",
       "Dime Community Bank                          531\n",
       "Savoy Bank                                   289\n",
       "JPMorgan Chase Bank, National Association    223\n",
       "TD Bank, National Association                196\n",
       "                                            ... \n",
       "First Dakota National Bank                     1\n",
       "The First National Bank of Ottawa              1\n",
       "State Bank of Easton                           1\n",
       "Affinity FCU                                   1\n",
       "Western Union Company                          1\n",
       "Name: Lender, Length: 279, dtype: int64"
      ]
     },
     "execution_count": 65,
     "metadata": {},
     "output_type": "execute_result"
    }
   ],
   "source": [
    "White_Lenders.Lender.value_counts(dropna=False)"
   ]
  },
  {
   "cell_type": "code",
   "execution_count": 66,
   "metadata": {},
   "outputs": [
    {
     "data": {
      "text/plain": [
       "141710.43812681403"
      ]
     },
     "execution_count": 66,
     "metadata": {},
     "output_type": "execute_result"
    }
   ],
   "source": [
    "White_Lenders.Min_LoanAmount.mean()"
   ]
  },
  {
   "cell_type": "code",
   "execution_count": 67,
   "metadata": {},
   "outputs": [
    {
     "data": {
      "text/plain": [
       "291241.58347175707"
      ]
     },
     "execution_count": 67,
     "metadata": {},
     "output_type": "execute_result"
    }
   ],
   "source": [
    "White_Lenders.Max_LoanAmount.mean()"
   ]
  },
  {
   "cell_type": "code",
   "execution_count": null,
   "metadata": {},
   "outputs": [],
   "source": []
  },
  {
   "cell_type": "code",
   "execution_count": null,
   "metadata": {},
   "outputs": [],
   "source": []
  },
  {
   "cell_type": "code",
   "execution_count": 68,
   "metadata": {},
   "outputs": [
    {
     "data": {
      "text/html": [
       "<div>\n",
       "<style scoped>\n",
       "    .dataframe tbody tr th:only-of-type {\n",
       "        vertical-align: middle;\n",
       "    }\n",
       "\n",
       "    .dataframe tbody tr th {\n",
       "        vertical-align: top;\n",
       "    }\n",
       "\n",
       "    .dataframe thead th {\n",
       "        text-align: right;\n",
       "    }\n",
       "</style>\n",
       "<table border=\"1\" class=\"dataframe\">\n",
       "  <thead>\n",
       "    <tr style=\"text-align: right;\">\n",
       "      <th></th>\n",
       "      <th>Min_LoanAmount</th>\n",
       "      <th>Max_LoanAmount</th>\n",
       "      <th>Zip</th>\n",
       "      <th>NAICSCode</th>\n",
       "      <th>City</th>\n",
       "      <th>BusinessType</th>\n",
       "      <th>RaceEthnicity</th>\n",
       "      <th>Gender</th>\n",
       "      <th>Lender</th>\n",
       "      <th>CD</th>\n",
       "    </tr>\n",
       "  </thead>\n",
       "  <tbody>\n",
       "    <tr>\n",
       "      <th>34794</th>\n",
       "      <td>78100.0</td>\n",
       "      <td>78100.0</td>\n",
       "      <td>11797.0</td>\n",
       "      <td>515111.0</td>\n",
       "      <td>WOODBURY</td>\n",
       "      <td>Corporation</td>\n",
       "      <td>Black or African American</td>\n",
       "      <td>Male Owned</td>\n",
       "      <td>City National Bank</td>\n",
       "      <td>NY-03</td>\n",
       "    </tr>\n",
       "    <tr>\n",
       "      <th>139633</th>\n",
       "      <td>20833.0</td>\n",
       "      <td>20833.0</td>\n",
       "      <td>11568.0</td>\n",
       "      <td>551111.0</td>\n",
       "      <td>OLD WESTBURY</td>\n",
       "      <td>Corporation</td>\n",
       "      <td>Black or African American</td>\n",
       "      <td>Male Owned</td>\n",
       "      <td>Bank of America, National Association</td>\n",
       "      <td>NY-03</td>\n",
       "    </tr>\n",
       "  </tbody>\n",
       "</table>\n",
       "</div>"
      ],
      "text/plain": [
       "        Min_LoanAmount  Max_LoanAmount      Zip  NAICSCode          City  \\\n",
       "34794          78100.0         78100.0  11797.0   515111.0      WOODBURY   \n",
       "139633         20833.0         20833.0  11568.0   551111.0  OLD WESTBURY   \n",
       "\n",
       "       BusinessType              RaceEthnicity      Gender  \\\n",
       "34794   Corporation  Black or African American  Male Owned   \n",
       "139633  Corporation  Black or African American  Male Owned   \n",
       "\n",
       "                                       Lender     CD  \n",
       "34794                      City National Bank  NY-03  \n",
       "139633  Bank of America, National Association  NY-03  "
      ]
     },
     "execution_count": 68,
     "metadata": {},
     "output_type": "execute_result"
    }
   ],
   "source": [
    "Black_Lenders = df_JoinedFinal[df_JoinedFinal.RaceEthnicity == \"Black or African American\"]\n",
    "Black_Lenders.head(2)"
   ]
  },
  {
   "cell_type": "code",
   "execution_count": 69,
   "metadata": {},
   "outputs": [
    {
     "data": {
      "text/plain": [
       "Dime Community Bank                                  70\n",
       "City National Bank                                   63\n",
       "Accion East, Inc.                                    36\n",
       "Grow America Fund, Incorporated                      22\n",
       "TruFund Financial Services Inc                       18\n",
       "                                                     ..\n",
       "DR Bank                                               1\n",
       "Truist Bank d/b/a Branch Banking & Trust Co           1\n",
       "Winthrop-University Hospital Empl FCU                 1\n",
       "Empire Financial FCU                                  1\n",
       "United Midwest Savings Bank, National Association     1\n",
       "Name: Lender, Length: 75, dtype: int64"
      ]
     },
     "execution_count": 69,
     "metadata": {},
     "output_type": "execute_result"
    }
   ],
   "source": [
    "Black_Lenders.Lender.value_counts(dropna=False)"
   ]
  },
  {
   "cell_type": "code",
   "execution_count": 70,
   "metadata": {},
   "outputs": [
    {
     "data": {
      "text/plain": [
       "68826.20637894738"
      ]
     },
     "execution_count": 70,
     "metadata": {},
     "output_type": "execute_result"
    }
   ],
   "source": [
    "Black_Lenders.Min_LoanAmount.mean()"
   ]
  },
  {
   "cell_type": "code",
   "execution_count": 71,
   "metadata": {},
   "outputs": [
    {
     "data": {
      "text/plain": [
       "128931.46953684211"
      ]
     },
     "execution_count": 71,
     "metadata": {},
     "output_type": "execute_result"
    }
   ],
   "source": [
    "Black_Lenders.Max_LoanAmount.mean()"
   ]
  },
  {
   "cell_type": "code",
   "execution_count": null,
   "metadata": {},
   "outputs": [],
   "source": []
  },
  {
   "cell_type": "code",
   "execution_count": null,
   "metadata": {},
   "outputs": [],
   "source": []
  },
  {
   "cell_type": "code",
   "execution_count": null,
   "metadata": {},
   "outputs": [],
   "source": []
  },
  {
   "cell_type": "code",
   "execution_count": 72,
   "metadata": {},
   "outputs": [
    {
     "data": {
      "text/plain": [
       "Unanswered      161749\n",
       "Male Owned       18505\n",
       "Female Owned      5375\n",
       "Name: Gender, dtype: int64"
      ]
     },
     "execution_count": 72,
     "metadata": {},
     "output_type": "execute_result"
    }
   ],
   "source": [
    "# refer to women-owned businesses \n",
    "# https://www.census.gov/quickfacts/fact/table/newyorkcitynewyork/PST040219\n",
    "\n",
    "df_JoinedFinal['Gender'].value_counts(dropna=False)"
   ]
  },
  {
   "cell_type": "code",
   "execution_count": 73,
   "metadata": {},
   "outputs": [
    {
     "data": {
      "text/plain": [
       "78.41101694915254"
      ]
     },
     "execution_count": 73,
     "metadata": {},
     "output_type": "execute_result"
    }
   ],
   "source": [
    "18505/236"
   ]
  },
  {
   "cell_type": "code",
   "execution_count": 74,
   "metadata": {},
   "outputs": [
    {
     "data": {
      "text/plain": [
       "NY-12    43620\n",
       "NY-10    29174\n",
       "NY-03    17040\n",
       "NY-08    13154\n",
       "NY-06    12715\n",
       "NY-09    11738\n",
       "NY-07    10855\n",
       "NY-14    10701\n",
       "NY-16     9881\n",
       "NY-11     7767\n",
       "NY-13     6517\n",
       "NY-05     6384\n",
       "NY-15     6083\n",
       "Name: CD, dtype: int64"
      ]
     },
     "execution_count": 74,
     "metadata": {},
     "output_type": "execute_result"
    }
   ],
   "source": [
    "df_JoinedFinal['CD'].value_counts(dropna=False)"
   ]
  },
  {
   "cell_type": "code",
   "execution_count": null,
   "metadata": {},
   "outputs": [],
   "source": []
  },
  {
   "cell_type": "code",
   "execution_count": 75,
   "metadata": {},
   "outputs": [
    {
     "data": {
      "text/plain": [
       "JPMorgan Chase Bank, National Association    42277\n",
       "Cross River Bank                             16507\n",
       "Kabbage, Inc.                                16185\n",
       "TD Bank, National Association                13741\n",
       "Bank of America, National Association        11907\n",
       "Citibank, N.A.                               10855\n",
       "Celtic Bank Corporation                       8724\n",
       "WebBank                                       5034\n",
       "Signature Bank                                3887\n",
       "Capital One, National Association             3262\n",
       "Name: Lender, dtype: int64"
      ]
     },
     "execution_count": 75,
     "metadata": {},
     "output_type": "execute_result"
    }
   ],
   "source": [
    "df_JoinedFinal['Lender'].value_counts(dropna=False).head(10)"
   ]
  },
  {
   "cell_type": "code",
   "execution_count": 76,
   "metadata": {},
   "outputs": [
    {
     "data": {
      "text/html": [
       "<div>\n",
       "<style scoped>\n",
       "    .dataframe tbody tr th:only-of-type {\n",
       "        vertical-align: middle;\n",
       "    }\n",
       "\n",
       "    .dataframe tbody tr th {\n",
       "        vertical-align: top;\n",
       "    }\n",
       "\n",
       "    .dataframe thead th {\n",
       "        text-align: right;\n",
       "    }\n",
       "</style>\n",
       "<table border=\"1\" class=\"dataframe\">\n",
       "  <thead>\n",
       "    <tr style=\"text-align: right;\">\n",
       "      <th></th>\n",
       "      <th>Min_LoanAmount</th>\n",
       "      <th>Max_LoanAmount</th>\n",
       "      <th>Zip</th>\n",
       "      <th>NAICSCode</th>\n",
       "      <th>City</th>\n",
       "      <th>BusinessType</th>\n",
       "      <th>RaceEthnicity</th>\n",
       "      <th>Gender</th>\n",
       "      <th>Lender</th>\n",
       "      <th>CD</th>\n",
       "    </tr>\n",
       "  </thead>\n",
       "  <tbody>\n",
       "    <tr>\n",
       "      <th>1</th>\n",
       "      <td>149990.0</td>\n",
       "      <td>149990.0</td>\n",
       "      <td>11357.0</td>\n",
       "      <td>621210.0</td>\n",
       "      <td>WHITESTONE</td>\n",
       "      <td>Corporation</td>\n",
       "      <td>Unanswered</td>\n",
       "      <td>Male Owned</td>\n",
       "      <td>JPMorgan Chase Bank, National Association</td>\n",
       "      <td>NY-03</td>\n",
       "    </tr>\n",
       "    <tr>\n",
       "      <th>34</th>\n",
       "      <td>149872.0</td>\n",
       "      <td>149872.0</td>\n",
       "      <td>11714.0</td>\n",
       "      <td>999990.0</td>\n",
       "      <td>BETHPAGE</td>\n",
       "      <td>Limited  Liability Company(LLC)</td>\n",
       "      <td>Unanswered</td>\n",
       "      <td>Unanswered</td>\n",
       "      <td>JPMorgan Chase Bank, National Association</td>\n",
       "      <td>NY-03</td>\n",
       "    </tr>\n",
       "  </tbody>\n",
       "</table>\n",
       "</div>"
      ],
      "text/plain": [
       "    Min_LoanAmount  Max_LoanAmount      Zip  NAICSCode        City  \\\n",
       "1         149990.0        149990.0  11357.0   621210.0  WHITESTONE   \n",
       "34        149872.0        149872.0  11714.0   999990.0    BETHPAGE   \n",
       "\n",
       "                       BusinessType RaceEthnicity      Gender  \\\n",
       "1                       Corporation    Unanswered  Male Owned   \n",
       "34  Limited  Liability Company(LLC)    Unanswered  Unanswered   \n",
       "\n",
       "                                       Lender     CD  \n",
       "1   JPMorgan Chase Bank, National Association  NY-03  \n",
       "34  JPMorgan Chase Bank, National Association  NY-03  "
      ]
     },
     "execution_count": 76,
     "metadata": {},
     "output_type": "execute_result"
    }
   ],
   "source": [
    "JPMorgan = df_JoinedFinal[df_JoinedFinal.Lender == 'JPMorgan Chase Bank, National Association']\n",
    "JPMorgan.head(2)"
   ]
  },
  {
   "cell_type": "code",
   "execution_count": 77,
   "metadata": {},
   "outputs": [
    {
     "data": {
      "text/plain": [
       "3974511218.1299996"
      ]
     },
     "execution_count": 77,
     "metadata": {},
     "output_type": "execute_result"
    }
   ],
   "source": [
    "JPMorgan.Min_LoanAmount.sum()"
   ]
  },
  {
   "cell_type": "code",
   "execution_count": 78,
   "metadata": {},
   "outputs": [
    {
     "data": {
      "text/plain": [
       "7629561218.13"
      ]
     },
     "execution_count": 78,
     "metadata": {},
     "output_type": "execute_result"
    }
   ],
   "source": [
    "JPMorgan.Max_LoanAmount.sum()"
   ]
  },
  {
   "cell_type": "code",
   "execution_count": 79,
   "metadata": {},
   "outputs": [
    {
     "data": {
      "text/plain": [
       "509275474.73999995"
      ]
     },
     "execution_count": 79,
     "metadata": {},
     "output_type": "execute_result"
    }
   ],
   "source": [
    "CrossRiverBank = df_JoinedFinal[df_JoinedFinal.Lender == 'Cross River Bank']\n",
    "CrossRiverBank.Min_LoanAmount.sum()"
   ]
  },
  {
   "cell_type": "code",
   "execution_count": 80,
   "metadata": {},
   "outputs": [
    {
     "data": {
      "text/plain": [
       "748125474.7400001"
      ]
     },
     "execution_count": 80,
     "metadata": {},
     "output_type": "execute_result"
    }
   ],
   "source": [
    "CrossRiverBank.Max_LoanAmount.sum()"
   ]
  },
  {
   "cell_type": "code",
   "execution_count": 81,
   "metadata": {},
   "outputs": [
    {
     "data": {
      "text/plain": [
       "280968472.36"
      ]
     },
     "execution_count": 81,
     "metadata": {},
     "output_type": "execute_result"
    }
   ],
   "source": [
    "Kabbage = df_JoinedFinal[df_JoinedFinal.Lender == 'Kabbage, Inc.']\n",
    "Kabbage.Min_LoanAmount.sum()"
   ]
  },
  {
   "cell_type": "code",
   "execution_count": 82,
   "metadata": {},
   "outputs": [
    {
     "data": {
      "text/plain": [
       "344718472.36"
      ]
     },
     "execution_count": 82,
     "metadata": {},
     "output_type": "execute_result"
    }
   ],
   "source": [
    "Kabbage.Max_LoanAmount.sum()"
   ]
  },
  {
   "cell_type": "code",
   "execution_count": 83,
   "metadata": {},
   "outputs": [
    {
     "data": {
      "text/plain": [
       "1053932572.4300001"
      ]
     },
     "execution_count": 83,
     "metadata": {},
     "output_type": "execute_result"
    }
   ],
   "source": [
    "TDBank = df_JoinedFinal[df_JoinedFinal.Lender == 'TD Bank, National Association'] \n",
    "TDBank.Min_LoanAmount.sum()"
   ]
  },
  {
   "cell_type": "code",
   "execution_count": 84,
   "metadata": {},
   "outputs": [
    {
     "data": {
      "text/plain": [
       "1989182572.4299998"
      ]
     },
     "execution_count": 84,
     "metadata": {},
     "output_type": "execute_result"
    }
   ],
   "source": [
    "TDBank.Max_LoanAmount.sum()"
   ]
  },
  {
   "cell_type": "code",
   "execution_count": 85,
   "metadata": {},
   "outputs": [],
   "source": [
    "BOA = df_JoinedFinal[df_JoinedFinal.Lender == 'Bank of America, National Association'] "
   ]
  },
  {
   "cell_type": "code",
   "execution_count": 86,
   "metadata": {},
   "outputs": [
    {
     "data": {
      "text/plain": [
       "899210442.6300001"
      ]
     },
     "execution_count": 86,
     "metadata": {},
     "output_type": "execute_result"
    }
   ],
   "source": [
    "BOA.Min_LoanAmount.sum()"
   ]
  },
  {
   "cell_type": "code",
   "execution_count": 87,
   "metadata": {},
   "outputs": [
    {
     "data": {
      "text/plain": [
       "1691760442.63"
      ]
     },
     "execution_count": 87,
     "metadata": {},
     "output_type": "execute_result"
    }
   ],
   "source": [
    "BOA.Max_LoanAmount.sum()"
   ]
  },
  {
   "cell_type": "code",
   "execution_count": 88,
   "metadata": {},
   "outputs": [],
   "source": [
    "Citibank = df_JoinedFinal[df_JoinedFinal.Lender == 'Citibank, N.A.'] "
   ]
  },
  {
   "cell_type": "code",
   "execution_count": 89,
   "metadata": {},
   "outputs": [
    {
     "data": {
      "text/plain": [
       "961002908.34"
      ]
     },
     "execution_count": 89,
     "metadata": {},
     "output_type": "execute_result"
    }
   ],
   "source": [
    "Citibank.Min_LoanAmount.sum()"
   ]
  },
  {
   "cell_type": "code",
   "execution_count": 90,
   "metadata": {},
   "outputs": [
    {
     "data": {
      "text/plain": [
       "1806602908.3400002"
      ]
     },
     "execution_count": 90,
     "metadata": {},
     "output_type": "execute_result"
    }
   ],
   "source": [
    "Citibank.Max_LoanAmount.sum()"
   ]
  },
  {
   "cell_type": "code",
   "execution_count": 91,
   "metadata": {},
   "outputs": [],
   "source": [
    "Celtic = df_JoinedFinal[df_JoinedFinal.Lender == 'Celtic Bank Corporation'] "
   ]
  },
  {
   "cell_type": "code",
   "execution_count": 92,
   "metadata": {},
   "outputs": [
    {
     "data": {
      "text/plain": [
       "235063281.29"
      ]
     },
     "execution_count": 92,
     "metadata": {},
     "output_type": "execute_result"
    }
   ],
   "source": [
    "Celtic.Min_LoanAmount.sum()"
   ]
  },
  {
   "cell_type": "code",
   "execution_count": 93,
   "metadata": {},
   "outputs": [
    {
     "data": {
      "text/plain": [
       "329513281.29"
      ]
     },
     "execution_count": 93,
     "metadata": {},
     "output_type": "execute_result"
    }
   ],
   "source": [
    "Celtic.Max_LoanAmount.sum()"
   ]
  },
  {
   "cell_type": "code",
   "execution_count": null,
   "metadata": {},
   "outputs": [],
   "source": []
  },
  {
   "cell_type": "code",
   "execution_count": null,
   "metadata": {},
   "outputs": [],
   "source": []
  },
  {
   "cell_type": "code",
   "execution_count": null,
   "metadata": {},
   "outputs": [],
   "source": []
  },
  {
   "cell_type": "code",
   "execution_count": null,
   "metadata": {},
   "outputs": [],
   "source": []
  }
 ],
 "metadata": {
  "kernelspec": {
   "display_name": "Python 3",
   "language": "python",
   "name": "python3"
  },
  "language_info": {
   "codemirror_mode": {
    "name": "ipython",
    "version": 3
   },
   "file_extension": ".py",
   "mimetype": "text/x-python",
   "name": "python",
   "nbconvert_exporter": "python",
   "pygments_lexer": "ipython3",
   "version": "3.8.2"
  }
 },
 "nbformat": 4,
 "nbformat_minor": 4
}
